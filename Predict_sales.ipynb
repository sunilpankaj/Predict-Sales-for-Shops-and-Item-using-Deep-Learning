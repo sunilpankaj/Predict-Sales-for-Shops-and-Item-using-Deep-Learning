{
  "nbformat": 4,
  "nbformat_minor": 0,
  "metadata": {
    "colab": {
      "name": "Predict sales ",
      "provenance": [],
      "collapsed_sections": []
    },
    "kernelspec": {
      "name": "python3",
      "display_name": "Python 3"
    },
    "accelerator": "GPU"
  },
  "cells": [
    {
      "cell_type": "markdown",
      "metadata": {
        "id": "z-8WuYxtW5l8",
        "colab_type": "text"
      },
      "source": [
        "Predict Future Sales:\n",
        "\n",
        "You are provided with daily historical sales data. The task is to forecast the total amount of products sold in every shop for the test set. Note that the list of shops and products slightly changes every month."
      ]
    },
    {
      "cell_type": "code",
      "metadata": {
        "id": "NgO62H9TSIgE",
        "colab_type": "code",
        "outputId": "8f60d442-fd9e-4dbd-8906-c24ed5fa9b25",
        "colab": {
          "base_uri": "https://localhost:8080/",
          "height": 89
        }
      },
      "source": [
        "import warnings\n",
        "import numpy as np\n",
        "import pandas as pd\n",
        "import tensorflow as tf\n",
        "import matplotlib.pyplot as plt\n",
        "import seaborn as sns\n",
        "warnings.filterwarnings(\"ignore\")\n",
        "%matplotlib inline\n",
        "tf.__version__"
      ],
      "execution_count": 3,
      "outputs": [
        {
          "output_type": "stream",
          "text": [
            "/usr/local/lib/python3.6/dist-packages/statsmodels/tools/_testing.py:19: FutureWarning: pandas.util.testing is deprecated. Use the functions in the public API at pandas.testing instead.\n",
            "  import pandas.util.testing as tm\n"
          ],
          "name": "stderr"
        },
        {
          "output_type": "execute_result",
          "data": {
            "text/plain": [
              "'2.2.0-rc3'"
            ]
          },
          "metadata": {
            "tags": []
          },
          "execution_count": 3
        }
      ]
    },
    {
      "cell_type": "code",
      "metadata": {
        "id": "wymPboLeSuz0",
        "colab_type": "code",
        "colab": {}
      },
      "source": [
        "#download data from kaggle : https://www.kaggle.com/c/competitive-data-science-predict-future-sales/data"
      ],
      "execution_count": 0,
      "outputs": []
    },
    {
      "cell_type": "markdown",
      "metadata": {
        "id": "QopRKI-IXEzA",
        "colab_type": "text"
      },
      "source": [
        "File descriptions\n",
        "\n",
        "sales_train.csv - the training set. Daily historical data from January 2013 to October 2015.\n",
        "\n",
        "test.csv - the test set. You need to forecast the sales for these shops and products for November 2015.\n",
        "\n",
        "items.csv - supplemental information about the items/products.\n",
        "\n",
        "item_categories.csv  - supplemental information about the items categories.\n",
        "\n",
        "shops.csv- supplemental information about the shops."
      ]
    },
    {
      "cell_type": "code",
      "metadata": {
        "id": "vGo0Vv9VXFOH",
        "colab_type": "code",
        "colab": {}
      },
      "source": [
        "#Lets Load data in notebook"
      ],
      "execution_count": 0,
      "outputs": []
    },
    {
      "cell_type": "code",
      "metadata": {
        "id": "DTWCaOh6XU22",
        "colab_type": "code",
        "outputId": "19d7df4c-1b91-47e7-d4c4-c1ae933ef79e",
        "colab": {
          "base_uri": "https://localhost:8080/",
          "height": 35
        }
      },
      "source": [
        "#mounting drive to colab\n",
        "from google.colab import drive\n",
        "drive.mount('/content/drive')"
      ],
      "execution_count": 7,
      "outputs": [
        {
          "output_type": "stream",
          "text": [
            "Drive already mounted at /content/drive; to attempt to forcibly remount, call drive.mount(\"/content/drive\", force_remount=True).\n"
          ],
          "name": "stdout"
        }
      ]
    },
    {
      "cell_type": "markdown",
      "metadata": {
        "id": "m8882WyQ1vJ3",
        "colab_type": "text"
      },
      "source": [
        "1. Load data "
      ]
    },
    {
      "cell_type": "code",
      "metadata": {
        "id": "LdMq_r2IYR6x",
        "colab_type": "code",
        "colab": {}
      },
      "source": [
        "items = pd.read_csv(\"/content/drive/My Drive/google_colab/Predict_future_sales/items.csv\")\n",
        "item_categories = pd.read_csv(\"/content/drive/My Drive/google_colab/Predict_future_sales/item_categories.csv\")\n",
        "shops = pd.read_csv(\"/content/drive/My Drive/google_colab/Predict_future_sales/shops.csv\")"
      ],
      "execution_count": 0,
      "outputs": []
    },
    {
      "cell_type": "code",
      "metadata": {
        "id": "fiTgEr69ZA8F",
        "colab_type": "code",
        "outputId": "6de50349-ac4f-4bfa-fd4b-7ddd2612a7c8",
        "colab": {
          "base_uri": "https://localhost:8080/",
          "height": 416
        }
      },
      "source": [
        "print (\"item : \\n\",items.head())\n",
        "print (\"\\nitems_categories : \\n\",item_categories.head())\n",
        "print (\"\\nshops : \\n\",shops.head())"
      ],
      "execution_count": 9,
      "outputs": [
        {
          "output_type": "stream",
          "text": [
            "item : \n",
            "                                            item_name  item_id  item_category_id\n",
            "0          ! ВО ВЛАСТИ НАВАЖДЕНИЯ (ПЛАСТ.)         D        0                40\n",
            "1  !ABBYY FineReader 12 Professional Edition Full...        1                76\n",
            "2      ***В ЛУЧАХ СЛАВЫ   (UNV)                    D        2                40\n",
            "3    ***ГОЛУБАЯ ВОЛНА  (Univ)                      D        3                40\n",
            "4        ***КОРОБКА (СТЕКЛО)                       D        4                40\n",
            "\n",
            "items_categories : \n",
            "         item_category_name  item_category_id\n",
            "0  PC - Гарнитуры/Наушники                 0\n",
            "1         Аксессуары - PS2                 1\n",
            "2         Аксессуары - PS3                 2\n",
            "3         Аксессуары - PS4                 3\n",
            "4         Аксессуары - PSP                 4\n",
            "\n",
            "shops : \n",
            "                         shop_name  shop_id\n",
            "0   !Якутск Орджоникидзе, 56 фран        0\n",
            "1   !Якутск ТЦ \"Центральный\" фран        1\n",
            "2                Адыгея ТЦ \"Мега\"        2\n",
            "3  Балашиха ТРК \"Октябрь-Киномир\"        3\n",
            "4        Волжский ТЦ \"Волга Молл\"        4\n"
          ],
          "name": "stdout"
        }
      ]
    },
    {
      "cell_type": "code",
      "metadata": {
        "id": "7mkMb53GZlvS",
        "colab_type": "code",
        "colab": {}
      },
      "source": [
        "train_df = pd.read_csv(\"/content/drive/My Drive/google_colab/Predict_future_sales/sales_train.csv\", parse_dates=['date'])"
      ],
      "execution_count": 0,
      "outputs": []
    },
    {
      "cell_type": "code",
      "metadata": {
        "id": "CEM-p6pNXBLy",
        "colab_type": "code",
        "colab": {}
      },
      "source": [
        "test_df = pd.read_csv(\"/content/drive/My Drive/google_colab/Predict_future_sales/test.csv\")"
      ],
      "execution_count": 0,
      "outputs": []
    },
    {
      "cell_type": "code",
      "metadata": {
        "id": "RGDlsH8JaNsA",
        "colab_type": "code",
        "outputId": "e9fa6344-0ef4-4e24-ba62-727eb9eb9077",
        "colab": {
          "base_uri": "https://localhost:8080/",
          "height": 202
        }
      },
      "source": [
        "train_df.head()"
      ],
      "execution_count": 12,
      "outputs": [
        {
          "output_type": "execute_result",
          "data": {
            "text/html": [
              "<div>\n",
              "<style scoped>\n",
              "    .dataframe tbody tr th:only-of-type {\n",
              "        vertical-align: middle;\n",
              "    }\n",
              "\n",
              "    .dataframe tbody tr th {\n",
              "        vertical-align: top;\n",
              "    }\n",
              "\n",
              "    .dataframe thead th {\n",
              "        text-align: right;\n",
              "    }\n",
              "</style>\n",
              "<table border=\"1\" class=\"dataframe\">\n",
              "  <thead>\n",
              "    <tr style=\"text-align: right;\">\n",
              "      <th></th>\n",
              "      <th>date</th>\n",
              "      <th>date_block_num</th>\n",
              "      <th>shop_id</th>\n",
              "      <th>item_id</th>\n",
              "      <th>item_price</th>\n",
              "      <th>item_cnt_day</th>\n",
              "    </tr>\n",
              "  </thead>\n",
              "  <tbody>\n",
              "    <tr>\n",
              "      <th>0</th>\n",
              "      <td>2013-02-01</td>\n",
              "      <td>0</td>\n",
              "      <td>59</td>\n",
              "      <td>22154</td>\n",
              "      <td>999.00</td>\n",
              "      <td>1.0</td>\n",
              "    </tr>\n",
              "    <tr>\n",
              "      <th>1</th>\n",
              "      <td>2013-03-01</td>\n",
              "      <td>0</td>\n",
              "      <td>25</td>\n",
              "      <td>2552</td>\n",
              "      <td>899.00</td>\n",
              "      <td>1.0</td>\n",
              "    </tr>\n",
              "    <tr>\n",
              "      <th>2</th>\n",
              "      <td>2013-05-01</td>\n",
              "      <td>0</td>\n",
              "      <td>25</td>\n",
              "      <td>2552</td>\n",
              "      <td>899.00</td>\n",
              "      <td>-1.0</td>\n",
              "    </tr>\n",
              "    <tr>\n",
              "      <th>3</th>\n",
              "      <td>2013-06-01</td>\n",
              "      <td>0</td>\n",
              "      <td>25</td>\n",
              "      <td>2554</td>\n",
              "      <td>1709.05</td>\n",
              "      <td>1.0</td>\n",
              "    </tr>\n",
              "    <tr>\n",
              "      <th>4</th>\n",
              "      <td>2013-01-15</td>\n",
              "      <td>0</td>\n",
              "      <td>25</td>\n",
              "      <td>2555</td>\n",
              "      <td>1099.00</td>\n",
              "      <td>1.0</td>\n",
              "    </tr>\n",
              "  </tbody>\n",
              "</table>\n",
              "</div>"
            ],
            "text/plain": [
              "        date  date_block_num  shop_id  item_id  item_price  item_cnt_day\n",
              "0 2013-02-01               0       59    22154      999.00           1.0\n",
              "1 2013-03-01               0       25     2552      899.00           1.0\n",
              "2 2013-05-01               0       25     2552      899.00          -1.0\n",
              "3 2013-06-01               0       25     2554     1709.05           1.0\n",
              "4 2013-01-15               0       25     2555     1099.00           1.0"
            ]
          },
          "metadata": {
            "tags": []
          },
          "execution_count": 12
        }
      ]
    },
    {
      "cell_type": "markdown",
      "metadata": {
        "id": "Z_cN36VXXeEU",
        "colab_type": "text"
      },
      "source": [
        "Data fields\n",
        "\n",
        "ID - an Id that represents a (Shop, Item) tuple within the test set\n",
        "\n",
        "shop_id - unique identifier of a shop\n",
        "\n",
        "item_id - unique identifier of a product\n",
        "\n",
        "item_category_id - unique identifier of item category\n",
        "\n",
        "item_cnt_day - number of products sold. You are predicting a monthly amount of this measure\n",
        "\n",
        "item_price - current price of an item\n",
        "\n",
        "date - date in format dd/mm/yyyy\n",
        "\n",
        "date_block_num - a consecutive month number, used for convenience. \n",
        "January 2013 is 0, February 2013 is 1,..., October 2015 is 33\n",
        "\n",
        "item_name - name of item\n",
        "\n",
        "shop_name - name of shop\n",
        "\n",
        "item_category_name - name of item category"
      ]
    },
    {
      "cell_type": "code",
      "metadata": {
        "id": "nJCTyWBBai7U",
        "colab_type": "code",
        "outputId": "684f0667-983b-48aa-dafb-df4f6f6e01f2",
        "colab": {
          "base_uri": "https://localhost:8080/",
          "height": 35
        }
      },
      "source": [
        "train_df.shape ,test_df.shape, shops.shape, items.shape"
      ],
      "execution_count": 13,
      "outputs": [
        {
          "output_type": "execute_result",
          "data": {
            "text/plain": [
              "((2935849, 6), (214200, 3), (60, 2), (22170, 3))"
            ]
          },
          "metadata": {
            "tags": []
          },
          "execution_count": 13
        }
      ]
    },
    {
      "cell_type": "code",
      "metadata": {
        "id": "PxtUNV7Tgac9",
        "colab_type": "code",
        "outputId": "d0110a83-c973-48b4-813a-a3afd9e18845",
        "colab": {
          "base_uri": "https://localhost:8080/",
          "height": 234
        }
      },
      "source": [
        "# Join all files data and create 1 data frame\n",
        "train_df = train_df.join(items, on='item_id', rsuffix='_')\n",
        "train_df = train_df.join(shops, on='shop_id', rsuffix='_')\n",
        "train_df = train_df.join(item_categories, on='item_category_id', rsuffix='_')\n",
        "train_df.head(2)"
      ],
      "execution_count": 14,
      "outputs": [
        {
          "output_type": "execute_result",
          "data": {
            "text/html": [
              "<div>\n",
              "<style scoped>\n",
              "    .dataframe tbody tr th:only-of-type {\n",
              "        vertical-align: middle;\n",
              "    }\n",
              "\n",
              "    .dataframe tbody tr th {\n",
              "        vertical-align: top;\n",
              "    }\n",
              "\n",
              "    .dataframe thead th {\n",
              "        text-align: right;\n",
              "    }\n",
              "</style>\n",
              "<table border=\"1\" class=\"dataframe\">\n",
              "  <thead>\n",
              "    <tr style=\"text-align: right;\">\n",
              "      <th></th>\n",
              "      <th>date</th>\n",
              "      <th>date_block_num</th>\n",
              "      <th>shop_id</th>\n",
              "      <th>item_id</th>\n",
              "      <th>item_price</th>\n",
              "      <th>item_cnt_day</th>\n",
              "      <th>item_name</th>\n",
              "      <th>item_id_</th>\n",
              "      <th>item_category_id</th>\n",
              "      <th>shop_name</th>\n",
              "      <th>shop_id_</th>\n",
              "      <th>item_category_name</th>\n",
              "      <th>item_category_id_</th>\n",
              "    </tr>\n",
              "  </thead>\n",
              "  <tbody>\n",
              "    <tr>\n",
              "      <th>0</th>\n",
              "      <td>2013-02-01</td>\n",
              "      <td>0</td>\n",
              "      <td>59</td>\n",
              "      <td>22154</td>\n",
              "      <td>999.0</td>\n",
              "      <td>1.0</td>\n",
              "      <td>ЯВЛЕНИЕ 2012 (BD)</td>\n",
              "      <td>22154</td>\n",
              "      <td>37</td>\n",
              "      <td>Ярославль ТЦ \"Альтаир\"</td>\n",
              "      <td>59</td>\n",
              "      <td>Кино - Blu-Ray</td>\n",
              "      <td>37</td>\n",
              "    </tr>\n",
              "    <tr>\n",
              "      <th>1</th>\n",
              "      <td>2013-03-01</td>\n",
              "      <td>0</td>\n",
              "      <td>25</td>\n",
              "      <td>2552</td>\n",
              "      <td>899.0</td>\n",
              "      <td>1.0</td>\n",
              "      <td>DEEP PURPLE  The House Of Blue Light  LP</td>\n",
              "      <td>2552</td>\n",
              "      <td>58</td>\n",
              "      <td>Москва ТРК \"Атриум\"</td>\n",
              "      <td>25</td>\n",
              "      <td>Музыка - Винил</td>\n",
              "      <td>58</td>\n",
              "    </tr>\n",
              "  </tbody>\n",
              "</table>\n",
              "</div>"
            ],
            "text/plain": [
              "        date  date_block_num  ...  item_category_name  item_category_id_\n",
              "0 2013-02-01               0  ...      Кино - Blu-Ray                 37\n",
              "1 2013-03-01               0  ...      Музыка - Винил                 58\n",
              "\n",
              "[2 rows x 13 columns]"
            ]
          },
          "metadata": {
            "tags": []
          },
          "execution_count": 14
        }
      ]
    },
    {
      "cell_type": "code",
      "metadata": {
        "id": "YnjX02aQhDtz",
        "colab_type": "code",
        "outputId": "5128c872-c4a4-493f-f7aa-68a85f4913b5",
        "colab": {
          "base_uri": "https://localhost:8080/",
          "height": 145
        }
      },
      "source": [
        "#drop duplicate columns \n",
        "train_df = train_df.drop(['item_id_', 'shop_id_', 'item_category_id_'], axis=1)\n",
        "train_df.head(2)"
      ],
      "execution_count": 15,
      "outputs": [
        {
          "output_type": "execute_result",
          "data": {
            "text/html": [
              "<div>\n",
              "<style scoped>\n",
              "    .dataframe tbody tr th:only-of-type {\n",
              "        vertical-align: middle;\n",
              "    }\n",
              "\n",
              "    .dataframe tbody tr th {\n",
              "        vertical-align: top;\n",
              "    }\n",
              "\n",
              "    .dataframe thead th {\n",
              "        text-align: right;\n",
              "    }\n",
              "</style>\n",
              "<table border=\"1\" class=\"dataframe\">\n",
              "  <thead>\n",
              "    <tr style=\"text-align: right;\">\n",
              "      <th></th>\n",
              "      <th>date</th>\n",
              "      <th>date_block_num</th>\n",
              "      <th>shop_id</th>\n",
              "      <th>item_id</th>\n",
              "      <th>item_price</th>\n",
              "      <th>item_cnt_day</th>\n",
              "      <th>item_name</th>\n",
              "      <th>item_category_id</th>\n",
              "      <th>shop_name</th>\n",
              "      <th>item_category_name</th>\n",
              "    </tr>\n",
              "  </thead>\n",
              "  <tbody>\n",
              "    <tr>\n",
              "      <th>0</th>\n",
              "      <td>2013-02-01</td>\n",
              "      <td>0</td>\n",
              "      <td>59</td>\n",
              "      <td>22154</td>\n",
              "      <td>999.0</td>\n",
              "      <td>1.0</td>\n",
              "      <td>ЯВЛЕНИЕ 2012 (BD)</td>\n",
              "      <td>37</td>\n",
              "      <td>Ярославль ТЦ \"Альтаир\"</td>\n",
              "      <td>Кино - Blu-Ray</td>\n",
              "    </tr>\n",
              "    <tr>\n",
              "      <th>1</th>\n",
              "      <td>2013-03-01</td>\n",
              "      <td>0</td>\n",
              "      <td>25</td>\n",
              "      <td>2552</td>\n",
              "      <td>899.0</td>\n",
              "      <td>1.0</td>\n",
              "      <td>DEEP PURPLE  The House Of Blue Light  LP</td>\n",
              "      <td>58</td>\n",
              "      <td>Москва ТРК \"Атриум\"</td>\n",
              "      <td>Музыка - Винил</td>\n",
              "    </tr>\n",
              "  </tbody>\n",
              "</table>\n",
              "</div>"
            ],
            "text/plain": [
              "        date  date_block_num  ...               shop_name  item_category_name\n",
              "0 2013-02-01               0  ...  Ярославль ТЦ \"Альтаир\"      Кино - Blu-Ray\n",
              "1 2013-03-01               0  ...     Москва ТРК \"Атриум\"      Музыка - Винил\n",
              "\n",
              "[2 rows x 10 columns]"
            ]
          },
          "metadata": {
            "tags": []
          },
          "execution_count": 15
        }
      ]
    },
    {
      "cell_type": "code",
      "metadata": {
        "id": "StpVE22Pga5U",
        "colab_type": "code",
        "outputId": "d8274f9e-f2b0-40a3-daf6-0ff764f396ea",
        "colab": {
          "base_uri": "https://localhost:8080/",
          "height": 202
        }
      },
      "source": [
        "# test data \n",
        "test_df.head()"
      ],
      "execution_count": 16,
      "outputs": [
        {
          "output_type": "execute_result",
          "data": {
            "text/html": [
              "<div>\n",
              "<style scoped>\n",
              "    .dataframe tbody tr th:only-of-type {\n",
              "        vertical-align: middle;\n",
              "    }\n",
              "\n",
              "    .dataframe tbody tr th {\n",
              "        vertical-align: top;\n",
              "    }\n",
              "\n",
              "    .dataframe thead th {\n",
              "        text-align: right;\n",
              "    }\n",
              "</style>\n",
              "<table border=\"1\" class=\"dataframe\">\n",
              "  <thead>\n",
              "    <tr style=\"text-align: right;\">\n",
              "      <th></th>\n",
              "      <th>ID</th>\n",
              "      <th>shop_id</th>\n",
              "      <th>item_id</th>\n",
              "    </tr>\n",
              "  </thead>\n",
              "  <tbody>\n",
              "    <tr>\n",
              "      <th>0</th>\n",
              "      <td>0</td>\n",
              "      <td>5</td>\n",
              "      <td>5037</td>\n",
              "    </tr>\n",
              "    <tr>\n",
              "      <th>1</th>\n",
              "      <td>1</td>\n",
              "      <td>5</td>\n",
              "      <td>5320</td>\n",
              "    </tr>\n",
              "    <tr>\n",
              "      <th>2</th>\n",
              "      <td>2</td>\n",
              "      <td>5</td>\n",
              "      <td>5233</td>\n",
              "    </tr>\n",
              "    <tr>\n",
              "      <th>3</th>\n",
              "      <td>3</td>\n",
              "      <td>5</td>\n",
              "      <td>5232</td>\n",
              "    </tr>\n",
              "    <tr>\n",
              "      <th>4</th>\n",
              "      <td>4</td>\n",
              "      <td>5</td>\n",
              "      <td>5268</td>\n",
              "    </tr>\n",
              "  </tbody>\n",
              "</table>\n",
              "</div>"
            ],
            "text/plain": [
              "   ID  shop_id  item_id\n",
              "0   0        5     5037\n",
              "1   1        5     5320\n",
              "2   2        5     5233\n",
              "3   3        5     5232\n",
              "4   4        5     5268"
            ]
          },
          "metadata": {
            "tags": []
          },
          "execution_count": 16
        }
      ]
    },
    {
      "cell_type": "markdown",
      "metadata": {
        "id": "AaeVpprSrE3w",
        "colab_type": "text"
      },
      "source": [
        "Problem_statement: \n",
        "\n",
        "forecast the total amount of products sold in every shop in a month. "
      ]
    },
    {
      "cell_type": "markdown",
      "metadata": {
        "id": "AvSyspLN2Cl3",
        "colab_type": "text"
      },
      "source": [
        "2. Data Pre-processing & EDA\n"
      ]
    },
    {
      "cell_type": "code",
      "metadata": {
        "id": "U3Js3Xa3rKPJ",
        "colab_type": "code",
        "colab": {}
      },
      "source": [
        "# how many shops and items/products are there in test data for them we need forcast model"
      ],
      "execution_count": 0,
      "outputs": []
    },
    {
      "cell_type": "code",
      "metadata": {
        "id": "sUiXMS4VrbXP",
        "colab_type": "code",
        "outputId": "274e0e92-9598-42c2-a1a5-a43e6fc6e3e4",
        "colab": {
          "base_uri": "https://localhost:8080/",
          "height": 35
        }
      },
      "source": [
        "train_shops = train_df['shop_id'].unique()\n",
        "train_items = train_df['item_id'].unique()\n",
        "test_shops = test_df['shop_id'].unique()\n",
        "test_items = test_df['item_id'].unique()\n",
        "\n",
        "print (len(train_shops), len(train_items),len(test_shops), len(test_items))"
      ],
      "execution_count": 18,
      "outputs": [
        {
          "output_type": "stream",
          "text": [
            "60 21807 42 5100\n"
          ],
          "name": "stdout"
        }
      ]
    },
    {
      "cell_type": "code",
      "metadata": {
        "id": "b70KBlKH0wW4",
        "colab_type": "code",
        "colab": {}
      },
      "source": [
        ""
      ],
      "execution_count": 0,
      "outputs": []
    },
    {
      "cell_type": "code",
      "metadata": {
        "id": "gli5G3bu1cpN",
        "colab_type": "code",
        "outputId": "13332849-c4d8-42db-89c0-fca84d95ee1f",
        "colab": {
          "base_uri": "https://localhost:8080/",
          "height": 294
        }
      },
      "source": [
        "\n",
        "train_df.describe()"
      ],
      "execution_count": 19,
      "outputs": [
        {
          "output_type": "execute_result",
          "data": {
            "text/html": [
              "<div>\n",
              "<style scoped>\n",
              "    .dataframe tbody tr th:only-of-type {\n",
              "        vertical-align: middle;\n",
              "    }\n",
              "\n",
              "    .dataframe tbody tr th {\n",
              "        vertical-align: top;\n",
              "    }\n",
              "\n",
              "    .dataframe thead th {\n",
              "        text-align: right;\n",
              "    }\n",
              "</style>\n",
              "<table border=\"1\" class=\"dataframe\">\n",
              "  <thead>\n",
              "    <tr style=\"text-align: right;\">\n",
              "      <th></th>\n",
              "      <th>date_block_num</th>\n",
              "      <th>shop_id</th>\n",
              "      <th>item_id</th>\n",
              "      <th>item_price</th>\n",
              "      <th>item_cnt_day</th>\n",
              "      <th>item_category_id</th>\n",
              "    </tr>\n",
              "  </thead>\n",
              "  <tbody>\n",
              "    <tr>\n",
              "      <th>count</th>\n",
              "      <td>2.935849e+06</td>\n",
              "      <td>2.935849e+06</td>\n",
              "      <td>2.935849e+06</td>\n",
              "      <td>2.935849e+06</td>\n",
              "      <td>2.935849e+06</td>\n",
              "      <td>2.935849e+06</td>\n",
              "    </tr>\n",
              "    <tr>\n",
              "      <th>mean</th>\n",
              "      <td>1.456991e+01</td>\n",
              "      <td>3.300173e+01</td>\n",
              "      <td>1.019723e+04</td>\n",
              "      <td>8.908532e+02</td>\n",
              "      <td>1.242641e+00</td>\n",
              "      <td>4.000138e+01</td>\n",
              "    </tr>\n",
              "    <tr>\n",
              "      <th>std</th>\n",
              "      <td>9.422988e+00</td>\n",
              "      <td>1.622697e+01</td>\n",
              "      <td>6.324297e+03</td>\n",
              "      <td>1.729800e+03</td>\n",
              "      <td>2.618834e+00</td>\n",
              "      <td>1.710076e+01</td>\n",
              "    </tr>\n",
              "    <tr>\n",
              "      <th>min</th>\n",
              "      <td>0.000000e+00</td>\n",
              "      <td>0.000000e+00</td>\n",
              "      <td>0.000000e+00</td>\n",
              "      <td>-1.000000e+00</td>\n",
              "      <td>-2.200000e+01</td>\n",
              "      <td>0.000000e+00</td>\n",
              "    </tr>\n",
              "    <tr>\n",
              "      <th>25%</th>\n",
              "      <td>7.000000e+00</td>\n",
              "      <td>2.200000e+01</td>\n",
              "      <td>4.476000e+03</td>\n",
              "      <td>2.490000e+02</td>\n",
              "      <td>1.000000e+00</td>\n",
              "      <td>2.800000e+01</td>\n",
              "    </tr>\n",
              "    <tr>\n",
              "      <th>50%</th>\n",
              "      <td>1.400000e+01</td>\n",
              "      <td>3.100000e+01</td>\n",
              "      <td>9.343000e+03</td>\n",
              "      <td>3.990000e+02</td>\n",
              "      <td>1.000000e+00</td>\n",
              "      <td>4.000000e+01</td>\n",
              "    </tr>\n",
              "    <tr>\n",
              "      <th>75%</th>\n",
              "      <td>2.300000e+01</td>\n",
              "      <td>4.700000e+01</td>\n",
              "      <td>1.568400e+04</td>\n",
              "      <td>9.990000e+02</td>\n",
              "      <td>1.000000e+00</td>\n",
              "      <td>5.500000e+01</td>\n",
              "    </tr>\n",
              "    <tr>\n",
              "      <th>max</th>\n",
              "      <td>3.300000e+01</td>\n",
              "      <td>5.900000e+01</td>\n",
              "      <td>2.216900e+04</td>\n",
              "      <td>3.079800e+05</td>\n",
              "      <td>2.169000e+03</td>\n",
              "      <td>8.300000e+01</td>\n",
              "    </tr>\n",
              "  </tbody>\n",
              "</table>\n",
              "</div>"
            ],
            "text/plain": [
              "       date_block_num       shop_id  ...  item_cnt_day  item_category_id\n",
              "count    2.935849e+06  2.935849e+06  ...  2.935849e+06      2.935849e+06\n",
              "mean     1.456991e+01  3.300173e+01  ...  1.242641e+00      4.000138e+01\n",
              "std      9.422988e+00  1.622697e+01  ...  2.618834e+00      1.710076e+01\n",
              "min      0.000000e+00  0.000000e+00  ... -2.200000e+01      0.000000e+00\n",
              "25%      7.000000e+00  2.200000e+01  ...  1.000000e+00      2.800000e+01\n",
              "50%      1.400000e+01  3.100000e+01  ...  1.000000e+00      4.000000e+01\n",
              "75%      2.300000e+01  4.700000e+01  ...  1.000000e+00      5.500000e+01\n",
              "max      3.300000e+01  5.900000e+01  ...  2.169000e+03      8.300000e+01\n",
              "\n",
              "[8 rows x 6 columns]"
            ]
          },
          "metadata": {
            "tags": []
          },
          "execution_count": 19
        }
      ]
    },
    {
      "cell_type": "code",
      "metadata": {
        "id": "y0hzqsaJAjoD",
        "colab_type": "code",
        "colab": {}
      },
      "source": [
        "\n",
        "\n",
        "# this columns are not important for futher analysis : item_name, shop_name, \titem_category_name\n",
        "# we have item_category_id, item_is and shop_id which will take care of these 3 columns"
      ],
      "execution_count": 0,
      "outputs": []
    },
    {
      "cell_type": "code",
      "metadata": {
        "id": "q1MM3aFlBYrX",
        "colab_type": "code",
        "outputId": "f1374b3c-95c3-4b1f-cd8b-d0d54d015730",
        "colab": {
          "base_uri": "https://localhost:8080/",
          "height": 35
        }
      },
      "source": [
        "#drop coluns \n",
        "train_db = train_df.drop(['item_name', 'shop_name', 'item_category_name'], axis=1)\n",
        "train_db.shape"
      ],
      "execution_count": 21,
      "outputs": [
        {
          "output_type": "execute_result",
          "data": {
            "text/plain": [
              "(2935849, 7)"
            ]
          },
          "metadata": {
            "tags": []
          },
          "execution_count": 21
        }
      ]
    },
    {
      "cell_type": "code",
      "metadata": {
        "id": "7Mj-9yLtoTzD",
        "colab_type": "code",
        "colab": {}
      },
      "source": [
        ""
      ],
      "execution_count": 0,
      "outputs": []
    },
    {
      "cell_type": "code",
      "metadata": {
        "id": "m-k0gqt4oUQb",
        "colab_type": "code",
        "outputId": "bb7beaad-1775-4535-8c17-c56fc029386c",
        "colab": {
          "base_uri": "https://localhost:8080/",
          "height": 313
        }
      },
      "source": [
        "train_db['year'] = train_db['date_block_num'].apply(lambda x: ((x//12) + 2013))\n",
        "train_db['month'] = train_db['date_block_num'].apply(lambda x: (x % 12))\n",
        "grouped = pd.DataFrame(train_db.groupby(['year','month'])['item_cnt_day'].sum().reset_index())\n",
        "sns.pointplot(x='month', y='item_cnt_day', hue='year', data=grouped)\n",
        "plt.title(\"total sale in a month\")\n",
        "#print(grouped.head())"
      ],
      "execution_count": 22,
      "outputs": [
        {
          "output_type": "execute_result",
          "data": {
            "text/plain": [
              "Text(0.5, 1.0, 'total sale in a month')"
            ]
          },
          "metadata": {
            "tags": []
          },
          "execution_count": 22
        },
        {
          "output_type": "display_data",
          "data": {
            "image/png": "[encoded data removed]",
            "text/plain": [
              "<Figure size 432x288 with 1 Axes>"
            ]
          },
          "metadata": {
            "tags": [],
            "needs_background": "light"
          }
        }
      ]
    },
    {
      "cell_type": "code",
      "metadata": {
        "id": "Lbn3WSU5oUN9",
        "colab_type": "code",
        "outputId": "6e80a12e-9962-41fb-c39a-7d7f47f16a79",
        "colab": {
          "base_uri": "https://localhost:8080/",
          "height": 313
        }
      },
      "source": [
        "grouped = pd.DataFrame(train_db.groupby(['year','month'])['item_price'].mean().reset_index())\n",
        "sns.pointplot(x='month', y='item_price', hue='year', data=grouped)\n",
        "plt.title(\"item prices in a month\")\n",
        "#grouped.head()"
      ],
      "execution_count": 23,
      "outputs": [
        {
          "output_type": "execute_result",
          "data": {
            "text/plain": [
              "Text(0.5, 1.0, 'item prices in a month')"
            ]
          },
          "metadata": {
            "tags": []
          },
          "execution_count": 23
        },
        {
          "output_type": "display_data",
          "data": {
            "image/png": "[encoded data removed]",
            "text/plain": [
              "<Figure size 432x288 with 1 Axes>"
            ]
          },
          "metadata": {
            "tags": [],
            "needs_background": "light"
          }
        }
      ]
    },
    {
      "cell_type": "markdown",
      "metadata": {
        "id": "D2_u0r91qekt",
        "colab_type": "text"
      },
      "source": [
        "from graph it's clear that prices and sales are incresing at the last month of year.\n",
        "\n",
        "Sales and prices both increasing per year."
      ]
    },
    {
      "cell_type": "markdown",
      "metadata": {
        "id": "oDAoNRxGua8r",
        "colab_type": "text"
      },
      "source": [
        "we have data till October 2015"
      ]
    },
    {
      "cell_type": "code",
      "metadata": {
        "id": "URmIP1xNsKRu",
        "colab_type": "code",
        "outputId": "5397dd52-da92-44a5-c964-06a9fffa7f26",
        "colab": {
          "base_uri": "https://localhost:8080/",
          "height": 531
        }
      },
      "source": [
        "sales_pattern=train_db.groupby([\"date_block_num\"])[\"item_cnt_day\"].sum()\n",
        "plt.figure(figsize=(16,8))\n",
        "plt.title('Total Sales of the whole time period')\n",
        "plt.xlabel('Time')\n",
        "plt.ylabel('Sales')\n",
        "plt.plot(sales_pattern)"
      ],
      "execution_count": 24,
      "outputs": [
        {
          "output_type": "execute_result",
          "data": {
            "text/plain": [
              "[<matplotlib.lines.Line2D at 0x7fc3c217d9e8>]"
            ]
          },
          "metadata": {
            "tags": []
          },
          "execution_count": 24
        },
        {
          "output_type": "display_data",
          "data": {
            "image/png": "[encoded data removed]",
            "text/plain": [
              "<Figure size 1152x576 with 1 Axes>"
            ]
          },
          "metadata": {
            "tags": [],
            "needs_background": "light"
          }
        }
      ]
    },
    {
      "cell_type": "markdown",
      "metadata": {
        "id": "Mv43Ue14ugDE",
        "colab_type": "text"
      },
      "source": [
        "Sales is increasing , you can see 2 peak. these peak are the last month of every year. we don't have 2015 last 2 months data."
      ]
    },
    {
      "cell_type": "code",
      "metadata": {
        "id": "iGkkvXsbyaaL",
        "colab_type": "code",
        "outputId": "938d28ac-1260-4f20-ab51-973f7ae8a0f5",
        "colab": {
          "base_uri": "https://localhost:8080/",
          "height": 515
        }
      },
      "source": [
        "plt.figure(figsize=(15, 8))\n",
        "plt.scatter(train_df['item_price'], train_df['item_cnt_day'])\n",
        "plt.xlabel(\"item price\")\n",
        "plt.ylabel(\"number of sales in a day\")"
      ],
      "execution_count": 25,
      "outputs": [
        {
          "output_type": "execute_result",
          "data": {
            "text/plain": [
              "Text(0, 0.5, 'number of sales in a day')"
            ]
          },
          "metadata": {
            "tags": []
          },
          "execution_count": 25
        },
        {
          "output_type": "display_data",
          "data": {
            "image/png": "[encoded data removed]",
            "text/plain": [
              "<Figure size 1080x576 with 1 Axes>"
            ]
          },
          "metadata": {
            "tags": [],
            "needs_background": "light"
          }
        }
      ]
    },
    {
      "cell_type": "markdown",
      "metadata": {
        "id": "ZCJVkeRaznF7",
        "colab_type": "text"
      },
      "source": [
        "Outliers : \n",
        "item_price > 100k & sales > 2k"
      ]
    },
    {
      "cell_type": "code",
      "metadata": {
        "id": "sS2yue1DzlVY",
        "colab_type": "code",
        "outputId": "1a388080-ee66-45c0-b7ed-70e9c7e85993",
        "colab": {
          "base_uri": "https://localhost:8080/",
          "height": 52
        }
      },
      "source": [
        "print (train_df.shape)\n",
        "train_df = train_df[(train_df['item_cnt_day'] <= 2000)]\n",
        "train_df = train_df[(train_df['item_price'] <= 100000)]\n",
        "train_df.shape"
      ],
      "execution_count": 26,
      "outputs": [
        {
          "output_type": "stream",
          "text": [
            "(2935849, 10)\n"
          ],
          "name": "stdout"
        },
        {
          "output_type": "execute_result",
          "data": {
            "text/plain": [
              "(2935847, 10)"
            ]
          },
          "metadata": {
            "tags": []
          },
          "execution_count": 26
        }
      ]
    },
    {
      "cell_type": "code",
      "metadata": {
        "id": "BYjhy1LNzlS3",
        "colab_type": "code",
        "outputId": "0c8819da-2132-4905-8e19-6c705e10d7d7",
        "colab": {
          "base_uri": "https://localhost:8080/",
          "height": 306
        }
      },
      "source": [
        "train_df.head()"
      ],
      "execution_count": 27,
      "outputs": [
        {
          "output_type": "execute_result",
          "data": {
            "text/html": [
              "<div>\n",
              "<style scoped>\n",
              "    .dataframe tbody tr th:only-of-type {\n",
              "        vertical-align: middle;\n",
              "    }\n",
              "\n",
              "    .dataframe tbody tr th {\n",
              "        vertical-align: top;\n",
              "    }\n",
              "\n",
              "    .dataframe thead th {\n",
              "        text-align: right;\n",
              "    }\n",
              "</style>\n",
              "<table border=\"1\" class=\"dataframe\">\n",
              "  <thead>\n",
              "    <tr style=\"text-align: right;\">\n",
              "      <th></th>\n",
              "      <th>date</th>\n",
              "      <th>date_block_num</th>\n",
              "      <th>shop_id</th>\n",
              "      <th>item_id</th>\n",
              "      <th>item_price</th>\n",
              "      <th>item_cnt_day</th>\n",
              "      <th>item_name</th>\n",
              "      <th>item_category_id</th>\n",
              "      <th>shop_name</th>\n",
              "      <th>item_category_name</th>\n",
              "    </tr>\n",
              "  </thead>\n",
              "  <tbody>\n",
              "    <tr>\n",
              "      <th>0</th>\n",
              "      <td>2013-02-01</td>\n",
              "      <td>0</td>\n",
              "      <td>59</td>\n",
              "      <td>22154</td>\n",
              "      <td>999.00</td>\n",
              "      <td>1.0</td>\n",
              "      <td>ЯВЛЕНИЕ 2012 (BD)</td>\n",
              "      <td>37</td>\n",
              "      <td>Ярославль ТЦ \"Альтаир\"</td>\n",
              "      <td>Кино - Blu-Ray</td>\n",
              "    </tr>\n",
              "    <tr>\n",
              "      <th>1</th>\n",
              "      <td>2013-03-01</td>\n",
              "      <td>0</td>\n",
              "      <td>25</td>\n",
              "      <td>2552</td>\n",
              "      <td>899.00</td>\n",
              "      <td>1.0</td>\n",
              "      <td>DEEP PURPLE  The House Of Blue Light  LP</td>\n",
              "      <td>58</td>\n",
              "      <td>Москва ТРК \"Атриум\"</td>\n",
              "      <td>Музыка - Винил</td>\n",
              "    </tr>\n",
              "    <tr>\n",
              "      <th>2</th>\n",
              "      <td>2013-05-01</td>\n",
              "      <td>0</td>\n",
              "      <td>25</td>\n",
              "      <td>2552</td>\n",
              "      <td>899.00</td>\n",
              "      <td>-1.0</td>\n",
              "      <td>DEEP PURPLE  The House Of Blue Light  LP</td>\n",
              "      <td>58</td>\n",
              "      <td>Москва ТРК \"Атриум\"</td>\n",
              "      <td>Музыка - Винил</td>\n",
              "    </tr>\n",
              "    <tr>\n",
              "      <th>3</th>\n",
              "      <td>2013-06-01</td>\n",
              "      <td>0</td>\n",
              "      <td>25</td>\n",
              "      <td>2554</td>\n",
              "      <td>1709.05</td>\n",
              "      <td>1.0</td>\n",
              "      <td>DEEP PURPLE  Who Do You Think We Are  LP</td>\n",
              "      <td>58</td>\n",
              "      <td>Москва ТРК \"Атриум\"</td>\n",
              "      <td>Музыка - Винил</td>\n",
              "    </tr>\n",
              "    <tr>\n",
              "      <th>4</th>\n",
              "      <td>2013-01-15</td>\n",
              "      <td>0</td>\n",
              "      <td>25</td>\n",
              "      <td>2555</td>\n",
              "      <td>1099.00</td>\n",
              "      <td>1.0</td>\n",
              "      <td>DEEP PURPLE 30 Very Best Of 2CD (Фирм.)</td>\n",
              "      <td>56</td>\n",
              "      <td>Москва ТРК \"Атриум\"</td>\n",
              "      <td>Музыка - CD фирменного производства</td>\n",
              "    </tr>\n",
              "  </tbody>\n",
              "</table>\n",
              "</div>"
            ],
            "text/plain": [
              "        date  ...                   item_category_name\n",
              "0 2013-02-01  ...                       Кино - Blu-Ray\n",
              "1 2013-03-01  ...                       Музыка - Винил\n",
              "2 2013-05-01  ...                       Музыка - Винил\n",
              "3 2013-06-01  ...                       Музыка - Винил\n",
              "4 2013-01-15  ...  Музыка - CD фирменного производства\n",
              "\n",
              "[5 rows x 10 columns]"
            ]
          },
          "metadata": {
            "tags": []
          },
          "execution_count": 27
        }
      ]
    },
    {
      "cell_type": "markdown",
      "metadata": {
        "id": "5RbCmeCO7iUK",
        "colab_type": "text"
      },
      "source": [
        "date_block_num = has info of month and year , 0 mean jan,2013 and 33 means Oct,2015\n",
        "\n",
        "month and year is  correlated with date_block_num, so we can keep date_block_num and remove month and year from dataset\n",
        "\n",
        "similarely shop_id & item_id is correlated with price of item so we can keep shop_id and  item_id and remove item_price\n",
        "\n",
        "item_category_id isnot important\n",
        "\n"
      ]
    },
    {
      "cell_type": "markdown",
      "metadata": {
        "id": "Qoo70388nKKe",
        "colab_type": "text"
      },
      "source": [
        "Transform the data for modeling."
      ]
    },
    {
      "cell_type": "code",
      "metadata": {
        "id": "O45tPJUdH9F0",
        "colab_type": "code",
        "colab": {}
      },
      "source": [
        "timeseries_data = pd.pivot_table(train_df, values='item_cnt_day', index=['shop_id', 'item_id'],columns=['date_block_num'], aggfunc=np.sum,fill_value=0).reset_index().rename_axis(None, axis=1)"
      ],
      "execution_count": 0,
      "outputs": []
    },
    {
      "cell_type": "code",
      "metadata": {
        "id": "K1AVLCyy7oT9",
        "colab_type": "code",
        "outputId": "a3c98c41-e605-4be9-8dff-6dd0a32fbb89",
        "colab": {
          "base_uri": "https://localhost:8080/",
          "height": 202
        }
      },
      "source": [
        "timeseries_data.head()"
      ],
      "execution_count": 29,
      "outputs": [
        {
          "output_type": "execute_result",
          "data": {
            "text/html": [
              "<div>\n",
              "<style scoped>\n",
              "    .dataframe tbody tr th:only-of-type {\n",
              "        vertical-align: middle;\n",
              "    }\n",
              "\n",
              "    .dataframe tbody tr th {\n",
              "        vertical-align: top;\n",
              "    }\n",
              "\n",
              "    .dataframe thead th {\n",
              "        text-align: right;\n",
              "    }\n",
              "</style>\n",
              "<table border=\"1\" class=\"dataframe\">\n",
              "  <thead>\n",
              "    <tr style=\"text-align: right;\">\n",
              "      <th></th>\n",
              "      <th>shop_id</th>\n",
              "      <th>item_id</th>\n",
              "      <th>0</th>\n",
              "      <th>1</th>\n",
              "      <th>2</th>\n",
              "      <th>3</th>\n",
              "      <th>4</th>\n",
              "      <th>5</th>\n",
              "      <th>6</th>\n",
              "      <th>7</th>\n",
              "      <th>8</th>\n",
              "      <th>9</th>\n",
              "      <th>10</th>\n",
              "      <th>11</th>\n",
              "      <th>12</th>\n",
              "      <th>13</th>\n",
              "      <th>14</th>\n",
              "      <th>15</th>\n",
              "      <th>16</th>\n",
              "      <th>17</th>\n",
              "      <th>18</th>\n",
              "      <th>19</th>\n",
              "      <th>20</th>\n",
              "      <th>21</th>\n",
              "      <th>22</th>\n",
              "      <th>23</th>\n",
              "      <th>24</th>\n",
              "      <th>25</th>\n",
              "      <th>26</th>\n",
              "      <th>27</th>\n",
              "      <th>28</th>\n",
              "      <th>29</th>\n",
              "      <th>30</th>\n",
              "      <th>31</th>\n",
              "      <th>32</th>\n",
              "      <th>33</th>\n",
              "    </tr>\n",
              "  </thead>\n",
              "  <tbody>\n",
              "    <tr>\n",
              "      <th>0</th>\n",
              "      <td>0</td>\n",
              "      <td>30</td>\n",
              "      <td>0</td>\n",
              "      <td>31</td>\n",
              "      <td>0</td>\n",
              "      <td>0</td>\n",
              "      <td>0</td>\n",
              "      <td>0</td>\n",
              "      <td>0</td>\n",
              "      <td>0</td>\n",
              "      <td>0</td>\n",
              "      <td>0</td>\n",
              "      <td>0</td>\n",
              "      <td>0</td>\n",
              "      <td>0</td>\n",
              "      <td>0</td>\n",
              "      <td>0</td>\n",
              "      <td>0</td>\n",
              "      <td>0</td>\n",
              "      <td>0</td>\n",
              "      <td>0</td>\n",
              "      <td>0</td>\n",
              "      <td>0</td>\n",
              "      <td>0</td>\n",
              "      <td>0</td>\n",
              "      <td>0</td>\n",
              "      <td>0</td>\n",
              "      <td>0</td>\n",
              "      <td>0</td>\n",
              "      <td>0</td>\n",
              "      <td>0</td>\n",
              "      <td>0</td>\n",
              "      <td>0</td>\n",
              "      <td>0</td>\n",
              "      <td>0</td>\n",
              "      <td>0</td>\n",
              "    </tr>\n",
              "    <tr>\n",
              "      <th>1</th>\n",
              "      <td>0</td>\n",
              "      <td>31</td>\n",
              "      <td>0</td>\n",
              "      <td>11</td>\n",
              "      <td>0</td>\n",
              "      <td>0</td>\n",
              "      <td>0</td>\n",
              "      <td>0</td>\n",
              "      <td>0</td>\n",
              "      <td>0</td>\n",
              "      <td>0</td>\n",
              "      <td>0</td>\n",
              "      <td>0</td>\n",
              "      <td>0</td>\n",
              "      <td>0</td>\n",
              "      <td>0</td>\n",
              "      <td>0</td>\n",
              "      <td>0</td>\n",
              "      <td>0</td>\n",
              "      <td>0</td>\n",
              "      <td>0</td>\n",
              "      <td>0</td>\n",
              "      <td>0</td>\n",
              "      <td>0</td>\n",
              "      <td>0</td>\n",
              "      <td>0</td>\n",
              "      <td>0</td>\n",
              "      <td>0</td>\n",
              "      <td>0</td>\n",
              "      <td>0</td>\n",
              "      <td>0</td>\n",
              "      <td>0</td>\n",
              "      <td>0</td>\n",
              "      <td>0</td>\n",
              "      <td>0</td>\n",
              "      <td>0</td>\n",
              "    </tr>\n",
              "    <tr>\n",
              "      <th>2</th>\n",
              "      <td>0</td>\n",
              "      <td>32</td>\n",
              "      <td>6</td>\n",
              "      <td>10</td>\n",
              "      <td>0</td>\n",
              "      <td>0</td>\n",
              "      <td>0</td>\n",
              "      <td>0</td>\n",
              "      <td>0</td>\n",
              "      <td>0</td>\n",
              "      <td>0</td>\n",
              "      <td>0</td>\n",
              "      <td>0</td>\n",
              "      <td>0</td>\n",
              "      <td>0</td>\n",
              "      <td>0</td>\n",
              "      <td>0</td>\n",
              "      <td>0</td>\n",
              "      <td>0</td>\n",
              "      <td>0</td>\n",
              "      <td>0</td>\n",
              "      <td>0</td>\n",
              "      <td>0</td>\n",
              "      <td>0</td>\n",
              "      <td>0</td>\n",
              "      <td>0</td>\n",
              "      <td>0</td>\n",
              "      <td>0</td>\n",
              "      <td>0</td>\n",
              "      <td>0</td>\n",
              "      <td>0</td>\n",
              "      <td>0</td>\n",
              "      <td>0</td>\n",
              "      <td>0</td>\n",
              "      <td>0</td>\n",
              "      <td>0</td>\n",
              "    </tr>\n",
              "    <tr>\n",
              "      <th>3</th>\n",
              "      <td>0</td>\n",
              "      <td>33</td>\n",
              "      <td>3</td>\n",
              "      <td>3</td>\n",
              "      <td>0</td>\n",
              "      <td>0</td>\n",
              "      <td>0</td>\n",
              "      <td>0</td>\n",
              "      <td>0</td>\n",
              "      <td>0</td>\n",
              "      <td>0</td>\n",
              "      <td>0</td>\n",
              "      <td>0</td>\n",
              "      <td>0</td>\n",
              "      <td>0</td>\n",
              "      <td>0</td>\n",
              "      <td>0</td>\n",
              "      <td>0</td>\n",
              "      <td>0</td>\n",
              "      <td>0</td>\n",
              "      <td>0</td>\n",
              "      <td>0</td>\n",
              "      <td>0</td>\n",
              "      <td>0</td>\n",
              "      <td>0</td>\n",
              "      <td>0</td>\n",
              "      <td>0</td>\n",
              "      <td>0</td>\n",
              "      <td>0</td>\n",
              "      <td>0</td>\n",
              "      <td>0</td>\n",
              "      <td>0</td>\n",
              "      <td>0</td>\n",
              "      <td>0</td>\n",
              "      <td>0</td>\n",
              "      <td>0</td>\n",
              "    </tr>\n",
              "    <tr>\n",
              "      <th>4</th>\n",
              "      <td>0</td>\n",
              "      <td>35</td>\n",
              "      <td>1</td>\n",
              "      <td>14</td>\n",
              "      <td>0</td>\n",
              "      <td>0</td>\n",
              "      <td>0</td>\n",
              "      <td>0</td>\n",
              "      <td>0</td>\n",
              "      <td>0</td>\n",
              "      <td>0</td>\n",
              "      <td>0</td>\n",
              "      <td>0</td>\n",
              "      <td>0</td>\n",
              "      <td>0</td>\n",
              "      <td>0</td>\n",
              "      <td>0</td>\n",
              "      <td>0</td>\n",
              "      <td>0</td>\n",
              "      <td>0</td>\n",
              "      <td>0</td>\n",
              "      <td>0</td>\n",
              "      <td>0</td>\n",
              "      <td>0</td>\n",
              "      <td>0</td>\n",
              "      <td>0</td>\n",
              "      <td>0</td>\n",
              "      <td>0</td>\n",
              "      <td>0</td>\n",
              "      <td>0</td>\n",
              "      <td>0</td>\n",
              "      <td>0</td>\n",
              "      <td>0</td>\n",
              "      <td>0</td>\n",
              "      <td>0</td>\n",
              "      <td>0</td>\n",
              "    </tr>\n",
              "  </tbody>\n",
              "</table>\n",
              "</div>"
            ],
            "text/plain": [
              "   shop_id  item_id  0   1  2  3  4  5  6  ...  25  26  27  28  29  30  31  32  33\n",
              "0        0       30  0  31  0  0  0  0  0  ...   0   0   0   0   0   0   0   0   0\n",
              "1        0       31  0  11  0  0  0  0  0  ...   0   0   0   0   0   0   0   0   0\n",
              "2        0       32  6  10  0  0  0  0  0  ...   0   0   0   0   0   0   0   0   0\n",
              "3        0       33  3   3  0  0  0  0  0  ...   0   0   0   0   0   0   0   0   0\n",
              "4        0       35  1  14  0  0  0  0  0  ...   0   0   0   0   0   0   0   0   0\n",
              "\n",
              "[5 rows x 36 columns]"
            ]
          },
          "metadata": {
            "tags": []
          },
          "execution_count": 29
        }
      ]
    },
    {
      "cell_type": "markdown",
      "metadata": {
        "id": "KP0DdoDaT-LO",
        "colab_type": "text"
      },
      "source": [
        "let's generate test data with time series vectors based on shop_id and item_id from test_data file"
      ]
    },
    {
      "cell_type": "code",
      "metadata": {
        "id": "X64otEKtUOWd",
        "colab_type": "code",
        "outputId": "d6e04dd5-57f3-4d8f-b856-31caa5cf6127",
        "colab": {
          "base_uri": "https://localhost:8080/",
          "height": 274
        }
      },
      "source": [
        "test = test_df.drop(['ID'], axis=1)\n",
        "print (timeseries_data.shape, test.shape)\n",
        "test = pd.merge(test, timeseries_data, on = ['shop_id', 'item_id'], how = 'left') #will have NaN if shop and item d is not present in timeseries_data\n",
        "print (\"size of test data before droping nan rows: \", test.shape)\n",
        "test = test.dropna() #let's remove nan we have have model trained on these id so it won't give right prediction\n",
        "print  (\"size of test data after droping nan rows: \", test.shape)\n",
        "test.head()"
      ],
      "execution_count": 30,
      "outputs": [
        {
          "output_type": "stream",
          "text": [
            "(424123, 36) (214200, 2)\n",
            "size of test data before droping nan rows:  (214200, 36)\n",
            "size of test data after droping nan rows:  (111404, 36)\n"
          ],
          "name": "stdout"
        },
        {
          "output_type": "execute_result",
          "data": {
            "text/html": [
              "<div>\n",
              "<style scoped>\n",
              "    .dataframe tbody tr th:only-of-type {\n",
              "        vertical-align: middle;\n",
              "    }\n",
              "\n",
              "    .dataframe tbody tr th {\n",
              "        vertical-align: top;\n",
              "    }\n",
              "\n",
              "    .dataframe thead th {\n",
              "        text-align: right;\n",
              "    }\n",
              "</style>\n",
              "<table border=\"1\" class=\"dataframe\">\n",
              "  <thead>\n",
              "    <tr style=\"text-align: right;\">\n",
              "      <th></th>\n",
              "      <th>shop_id</th>\n",
              "      <th>item_id</th>\n",
              "      <th>0</th>\n",
              "      <th>1</th>\n",
              "      <th>2</th>\n",
              "      <th>3</th>\n",
              "      <th>4</th>\n",
              "      <th>5</th>\n",
              "      <th>6</th>\n",
              "      <th>7</th>\n",
              "      <th>8</th>\n",
              "      <th>9</th>\n",
              "      <th>10</th>\n",
              "      <th>11</th>\n",
              "      <th>12</th>\n",
              "      <th>13</th>\n",
              "      <th>14</th>\n",
              "      <th>15</th>\n",
              "      <th>16</th>\n",
              "      <th>17</th>\n",
              "      <th>18</th>\n",
              "      <th>19</th>\n",
              "      <th>20</th>\n",
              "      <th>21</th>\n",
              "      <th>22</th>\n",
              "      <th>23</th>\n",
              "      <th>24</th>\n",
              "      <th>25</th>\n",
              "      <th>26</th>\n",
              "      <th>27</th>\n",
              "      <th>28</th>\n",
              "      <th>29</th>\n",
              "      <th>30</th>\n",
              "      <th>31</th>\n",
              "      <th>32</th>\n",
              "      <th>33</th>\n",
              "    </tr>\n",
              "  </thead>\n",
              "  <tbody>\n",
              "    <tr>\n",
              "      <th>0</th>\n",
              "      <td>5</td>\n",
              "      <td>5037</td>\n",
              "      <td>0.0</td>\n",
              "      <td>0.0</td>\n",
              "      <td>0.0</td>\n",
              "      <td>0.0</td>\n",
              "      <td>0.0</td>\n",
              "      <td>0.0</td>\n",
              "      <td>0.0</td>\n",
              "      <td>0.0</td>\n",
              "      <td>0.0</td>\n",
              "      <td>0.0</td>\n",
              "      <td>0.0</td>\n",
              "      <td>0.0</td>\n",
              "      <td>0.0</td>\n",
              "      <td>0.0</td>\n",
              "      <td>0.0</td>\n",
              "      <td>0.0</td>\n",
              "      <td>0.0</td>\n",
              "      <td>0.0</td>\n",
              "      <td>0.0</td>\n",
              "      <td>0.0</td>\n",
              "      <td>1.0</td>\n",
              "      <td>0.0</td>\n",
              "      <td>1.0</td>\n",
              "      <td>2.0</td>\n",
              "      <td>2.0</td>\n",
              "      <td>0.0</td>\n",
              "      <td>0.0</td>\n",
              "      <td>0.0</td>\n",
              "      <td>1.0</td>\n",
              "      <td>1.0</td>\n",
              "      <td>1.0</td>\n",
              "      <td>3.0</td>\n",
              "      <td>1.0</td>\n",
              "      <td>0.0</td>\n",
              "    </tr>\n",
              "    <tr>\n",
              "      <th>2</th>\n",
              "      <td>5</td>\n",
              "      <td>5233</td>\n",
              "      <td>0.0</td>\n",
              "      <td>0.0</td>\n",
              "      <td>0.0</td>\n",
              "      <td>0.0</td>\n",
              "      <td>0.0</td>\n",
              "      <td>0.0</td>\n",
              "      <td>0.0</td>\n",
              "      <td>0.0</td>\n",
              "      <td>0.0</td>\n",
              "      <td>0.0</td>\n",
              "      <td>0.0</td>\n",
              "      <td>0.0</td>\n",
              "      <td>0.0</td>\n",
              "      <td>0.0</td>\n",
              "      <td>0.0</td>\n",
              "      <td>0.0</td>\n",
              "      <td>0.0</td>\n",
              "      <td>0.0</td>\n",
              "      <td>0.0</td>\n",
              "      <td>0.0</td>\n",
              "      <td>0.0</td>\n",
              "      <td>0.0</td>\n",
              "      <td>0.0</td>\n",
              "      <td>0.0</td>\n",
              "      <td>0.0</td>\n",
              "      <td>0.0</td>\n",
              "      <td>0.0</td>\n",
              "      <td>0.0</td>\n",
              "      <td>3.0</td>\n",
              "      <td>2.0</td>\n",
              "      <td>0.0</td>\n",
              "      <td>1.0</td>\n",
              "      <td>3.0</td>\n",
              "      <td>1.0</td>\n",
              "    </tr>\n",
              "    <tr>\n",
              "      <th>3</th>\n",
              "      <td>5</td>\n",
              "      <td>5232</td>\n",
              "      <td>0.0</td>\n",
              "      <td>0.0</td>\n",
              "      <td>0.0</td>\n",
              "      <td>0.0</td>\n",
              "      <td>0.0</td>\n",
              "      <td>0.0</td>\n",
              "      <td>0.0</td>\n",
              "      <td>0.0</td>\n",
              "      <td>0.0</td>\n",
              "      <td>0.0</td>\n",
              "      <td>0.0</td>\n",
              "      <td>0.0</td>\n",
              "      <td>0.0</td>\n",
              "      <td>0.0</td>\n",
              "      <td>0.0</td>\n",
              "      <td>0.0</td>\n",
              "      <td>0.0</td>\n",
              "      <td>0.0</td>\n",
              "      <td>0.0</td>\n",
              "      <td>0.0</td>\n",
              "      <td>0.0</td>\n",
              "      <td>0.0</td>\n",
              "      <td>0.0</td>\n",
              "      <td>0.0</td>\n",
              "      <td>0.0</td>\n",
              "      <td>0.0</td>\n",
              "      <td>0.0</td>\n",
              "      <td>0.0</td>\n",
              "      <td>0.0</td>\n",
              "      <td>0.0</td>\n",
              "      <td>0.0</td>\n",
              "      <td>1.0</td>\n",
              "      <td>0.0</td>\n",
              "      <td>0.0</td>\n",
              "    </tr>\n",
              "    <tr>\n",
              "      <th>5</th>\n",
              "      <td>5</td>\n",
              "      <td>5039</td>\n",
              "      <td>0.0</td>\n",
              "      <td>0.0</td>\n",
              "      <td>0.0</td>\n",
              "      <td>0.0</td>\n",
              "      <td>0.0</td>\n",
              "      <td>0.0</td>\n",
              "      <td>0.0</td>\n",
              "      <td>0.0</td>\n",
              "      <td>0.0</td>\n",
              "      <td>0.0</td>\n",
              "      <td>0.0</td>\n",
              "      <td>0.0</td>\n",
              "      <td>0.0</td>\n",
              "      <td>0.0</td>\n",
              "      <td>0.0</td>\n",
              "      <td>0.0</td>\n",
              "      <td>0.0</td>\n",
              "      <td>0.0</td>\n",
              "      <td>0.0</td>\n",
              "      <td>0.0</td>\n",
              "      <td>2.0</td>\n",
              "      <td>0.0</td>\n",
              "      <td>0.0</td>\n",
              "      <td>3.0</td>\n",
              "      <td>1.0</td>\n",
              "      <td>0.0</td>\n",
              "      <td>0.0</td>\n",
              "      <td>0.0</td>\n",
              "      <td>3.0</td>\n",
              "      <td>0.0</td>\n",
              "      <td>0.0</td>\n",
              "      <td>0.0</td>\n",
              "      <td>1.0</td>\n",
              "      <td>1.0</td>\n",
              "    </tr>\n",
              "    <tr>\n",
              "      <th>6</th>\n",
              "      <td>5</td>\n",
              "      <td>5041</td>\n",
              "      <td>0.0</td>\n",
              "      <td>0.0</td>\n",
              "      <td>0.0</td>\n",
              "      <td>0.0</td>\n",
              "      <td>0.0</td>\n",
              "      <td>0.0</td>\n",
              "      <td>0.0</td>\n",
              "      <td>0.0</td>\n",
              "      <td>0.0</td>\n",
              "      <td>0.0</td>\n",
              "      <td>0.0</td>\n",
              "      <td>0.0</td>\n",
              "      <td>0.0</td>\n",
              "      <td>0.0</td>\n",
              "      <td>0.0</td>\n",
              "      <td>0.0</td>\n",
              "      <td>0.0</td>\n",
              "      <td>0.0</td>\n",
              "      <td>0.0</td>\n",
              "      <td>0.0</td>\n",
              "      <td>0.0</td>\n",
              "      <td>0.0</td>\n",
              "      <td>0.0</td>\n",
              "      <td>0.0</td>\n",
              "      <td>0.0</td>\n",
              "      <td>0.0</td>\n",
              "      <td>0.0</td>\n",
              "      <td>0.0</td>\n",
              "      <td>0.0</td>\n",
              "      <td>0.0</td>\n",
              "      <td>0.0</td>\n",
              "      <td>0.0</td>\n",
              "      <td>3.0</td>\n",
              "      <td>2.0</td>\n",
              "    </tr>\n",
              "  </tbody>\n",
              "</table>\n",
              "</div>"
            ],
            "text/plain": [
              "   shop_id  item_id    0    1    2    3    4  ...   27   28   29   30   31   32   33\n",
              "0        5     5037  0.0  0.0  0.0  0.0  0.0  ...  0.0  1.0  1.0  1.0  3.0  1.0  0.0\n",
              "2        5     5233  0.0  0.0  0.0  0.0  0.0  ...  0.0  3.0  2.0  0.0  1.0  3.0  1.0\n",
              "3        5     5232  0.0  0.0  0.0  0.0  0.0  ...  0.0  0.0  0.0  0.0  1.0  0.0  0.0\n",
              "5        5     5039  0.0  0.0  0.0  0.0  0.0  ...  0.0  3.0  0.0  0.0  0.0  1.0  1.0\n",
              "6        5     5041  0.0  0.0  0.0  0.0  0.0  ...  0.0  0.0  0.0  0.0  0.0  3.0  2.0\n",
              "\n",
              "[5 rows x 36 columns]"
            ]
          },
          "metadata": {
            "tags": []
          },
          "execution_count": 30
        }
      ]
    },
    {
      "cell_type": "code",
      "metadata": {
        "id": "Yf4lX8gMu5z6",
        "colab_type": "code",
        "colab": {}
      },
      "source": [
        "#let's keep only month wise sale data and drop shop_id ad item_id\n",
        "timeseries_data = timeseries_data.drop(['shop_id','item_id'],axis = 1)\n",
        "test = test.drop(['shop_id', 'item_id'], axis=1)"
      ],
      "execution_count": 0,
      "outputs": []
    },
    {
      "cell_type": "code",
      "metadata": {
        "id": "vOIFJ_5dfUJb",
        "colab_type": "code",
        "outputId": "ca4be300-0f2b-471c-89fd-e3052ddae3b1",
        "colab": {
          "base_uri": "https://localhost:8080/",
          "height": 35
        }
      },
      "source": [
        "timeseries_data.shape ,test.shape"
      ],
      "execution_count": 32,
      "outputs": [
        {
          "output_type": "execute_result",
          "data": {
            "text/plain": [
              "((424123, 34), (111404, 34))"
            ]
          },
          "metadata": {
            "tags": []
          },
          "execution_count": 32
        }
      ]
    },
    {
      "cell_type": "markdown",
      "metadata": {
        "id": "o5Y_rFGkhr8c",
        "colab_type": "text"
      },
      "source": [
        "Since we are going to predict only for test data so we can train our model only for those shops and their items.\n",
        "\n",
        "if we can train on all the timeseries_data then we can predict for all the shops and items in given timeseries_data.\n",
        "\n",
        "so I recommnded to train on whole dataset \n",
        "\n",
        "But here I'm only going to train on only for shop_id and item_id which are in test data."
      ]
    },
    {
      "cell_type": "code",
      "metadata": {
        "id": "Ji00KCSQirZj",
        "colab_type": "code",
        "colab": {}
      },
      "source": [
        "#if want to train on whole dataset then \n",
        "#train on timesieries_data and predict only for test data shop_id and item_id\n",
        "\n",
        "#I am going to use only test data (0 to 32 columns for training and will test with 33rd (label) column)\n",
        "#then will predict for nov,2015 and input will be test data (1 to 33 columns)\n",
        "final_data = test"
      ],
      "execution_count": 0,
      "outputs": []
    },
    {
      "cell_type": "markdown",
      "metadata": {
        "id": "kqGEggLjbYSB",
        "colab_type": "text"
      },
      "source": [
        "now we thave training and testind data.\n",
        "\n",
        "Now let's convert them to train supervised learning model.\n",
        "\n",
        "training:  we will use 0 to 32 columns as training features and 33 columns\n",
        "as a label\n",
        "\n",
        "testing: we will use 1 to 33 column as input and will predict for nov, 2015 (34 column) "
      ]
    },
    {
      "cell_type": "code",
      "metadata": {
        "id": "cbxhO39P4Qfn",
        "colab_type": "code",
        "outputId": "8e6968a9-260b-42ee-8207-ec0c5eed79b3",
        "colab": {
          "base_uri": "https://localhost:8080/",
          "height": 35
        }
      },
      "source": [
        " X_train = final_data.iloc[:, :-1]\n",
        " y_train = final_data.iloc[:,-1:]\n",
        " X_test  = final_data.iloc[:,1:]\n",
        " X_train.shape, y_train.shape, X_test.shape"
      ],
      "execution_count": 34,
      "outputs": [
        {
          "output_type": "execute_result",
          "data": {
            "text/plain": [
              "((111404, 33), (111404, 1), (111404, 33))"
            ]
          },
          "metadata": {
            "tags": []
          },
          "execution_count": 34
        }
      ]
    },
    {
      "cell_type": "code",
      "metadata": {
        "id": "f2FAPuvFIvmm",
        "colab_type": "code",
        "outputId": "4182c52d-3bc1-48ff-993b-270eceab2e6c",
        "colab": {
          "base_uri": "https://localhost:8080/",
          "height": 399
        }
      },
      "source": [
        "print (X_train.head())\n",
        "print (y_train.head())\n",
        "print (X_test.head())"
      ],
      "execution_count": 35,
      "outputs": [
        {
          "output_type": "stream",
          "text": [
            "    0    1    2    3    4    5    6   ...   26   27   28   29   30   31   32\n",
            "0  0.0  0.0  0.0  0.0  0.0  0.0  0.0  ...  0.0  0.0  1.0  1.0  1.0  3.0  1.0\n",
            "2  0.0  0.0  0.0  0.0  0.0  0.0  0.0  ...  0.0  0.0  3.0  2.0  0.0  1.0  3.0\n",
            "3  0.0  0.0  0.0  0.0  0.0  0.0  0.0  ...  0.0  0.0  0.0  0.0  0.0  1.0  0.0\n",
            "5  0.0  0.0  0.0  0.0  0.0  0.0  0.0  ...  0.0  0.0  3.0  0.0  0.0  0.0  1.0\n",
            "6  0.0  0.0  0.0  0.0  0.0  0.0  0.0  ...  0.0  0.0  0.0  0.0  0.0  0.0  3.0\n",
            "\n",
            "[5 rows x 33 columns]\n",
            "    33\n",
            "0  0.0\n",
            "2  1.0\n",
            "3  0.0\n",
            "5  1.0\n",
            "6  2.0\n",
            "    1    2    3    4    5    6    7   ...   27   28   29   30   31   32   33\n",
            "0  0.0  0.0  0.0  0.0  0.0  0.0  0.0  ...  0.0  1.0  1.0  1.0  3.0  1.0  0.0\n",
            "2  0.0  0.0  0.0  0.0  0.0  0.0  0.0  ...  0.0  3.0  2.0  0.0  1.0  3.0  1.0\n",
            "3  0.0  0.0  0.0  0.0  0.0  0.0  0.0  ...  0.0  0.0  0.0  0.0  1.0  0.0  0.0\n",
            "5  0.0  0.0  0.0  0.0  0.0  0.0  0.0  ...  0.0  3.0  0.0  0.0  0.0  1.0  1.0\n",
            "6  0.0  0.0  0.0  0.0  0.0  0.0  0.0  ...  0.0  0.0  0.0  0.0  0.0  3.0  2.0\n",
            "\n",
            "[5 rows x 33 columns]\n"
          ],
          "name": "stdout"
        }
      ]
    },
    {
      "cell_type": "markdown",
      "metadata": {
        "id": "vMTvYBwcsOz4",
        "colab_type": "text"
      },
      "source": [
        "I'll be creating validation (30k samples) data from time_series_data which is not in the test data\n"
      ]
    },
    {
      "cell_type": "code",
      "metadata": {
        "id": "mHV8XOIOs1N2",
        "colab_type": "code",
        "outputId": "14f83da9-7c82-4122-8689-25302e5ae919",
        "colab": {
          "base_uri": "https://localhost:8080/",
          "height": 35
        }
      },
      "source": [
        "from sklearn.utils import shuffle\n",
        "validation_data = shuffle(timeseries_data[~timeseries_data.isin(final_data)].dropna())\n",
        "validation_data = validation_data.iloc[0:30000,:]\n",
        "validation_data.shape"
      ],
      "execution_count": 36,
      "outputs": [
        {
          "output_type": "execute_result",
          "data": {
            "text/plain": [
              "(30000, 34)"
            ]
          },
          "metadata": {
            "tags": []
          },
          "execution_count": 36
        }
      ]
    },
    {
      "cell_type": "code",
      "metadata": {
        "id": "0BZdlZ01uWZm",
        "colab_type": "code",
        "colab": {}
      },
      "source": [
        "X_val = validation_data.iloc[:, :-1]\n",
        "y_val = validation_data.iloc[:,-1:]"
      ],
      "execution_count": 0,
      "outputs": []
    },
    {
      "cell_type": "markdown",
      "metadata": {
        "id": "_GbrFDaBKVgC",
        "colab_type": "text"
      },
      "source": [
        "Input format for MLP\n",
        "\n",
        "[samples, features]"
      ]
    },
    {
      "cell_type": "code",
      "metadata": {
        "id": "Xc6KMgdFoybe",
        "colab_type": "code",
        "outputId": "4169574e-4af9-4da6-8723-dbe01eef9327",
        "colab": {
          "base_uri": "https://localhost:8080/",
          "height": 121
        }
      },
      "source": [
        "print (\"Input format for MLP\")\n",
        "print (\"X_train shape: \", X_train.shape)\n",
        "print (\"X_valid shape: \", X_val.shape)\n",
        "print (\"y_train shape: \", y_train.shape)\n",
        "print (\"y_valid shape: \", y_val.shape)\n",
        "print (\"X_test  shape: \", X_test.shape)"
      ],
      "execution_count": 38,
      "outputs": [
        {
          "output_type": "stream",
          "text": [
            "Input format for MLP\n",
            "X_train shape:  (111404, 33)\n",
            "X_valid shape:  (30000, 33)\n",
            "y_train shape:  (111404, 1)\n",
            "y_valid shape:  (30000, 1)\n",
            "X_test  shape:  (111404, 33)\n"
          ],
          "name": "stdout"
        }
      ]
    },
    {
      "cell_type": "markdown",
      "metadata": {
        "id": "FlfYfMgNKCCR",
        "colab_type": "text"
      },
      "source": [
        "Input format for CNN and RNN\n",
        "\n",
        "[samples, timesteps, feature]"
      ]
    },
    {
      "cell_type": "code",
      "metadata": {
        "id": "pftHa0luKAnc",
        "colab_type": "code",
        "colab": {
          "base_uri": "https://localhost:8080/",
          "height": 121
        },
        "outputId": "b92cac99-7116-4039-d43e-a8500278fcac"
      },
      "source": [
        "#input : [samples, timesteps, features]\n",
        "#convert data into input format\n",
        "X_train_timesteps = X_train.values.reshape((X_train.shape[0], X_train.shape[1], 1))\n",
        "X_val_timesteps = X_val.values.reshape((X_val.shape[0], X_val.shape[1], 1))\n",
        "X_test_timesteps = X_test.values.reshape((X_test.shape[0], X_test.shape[1], 1))\n",
        "print(\"Input format for CNN and RNN\")\n",
        "print (\"X_train shape: \", X_train_timesteps.shape)\n",
        "print (\"X_valid shape: \", X_val_timesteps.shape)\n",
        "print (\"y_train shape: \", y_train.shape)\n",
        "print (\"y_valid shape: \", y_val.shape)\n",
        "print (\"X_test  shape: \", X_test_timesteps.shape)"
      ],
      "execution_count": 39,
      "outputs": [
        {
          "output_type": "stream",
          "text": [
            "Input format for CNN and RNN\n",
            "X_train shape:  (111404, 33, 1)\n",
            "X_valid shape:  (30000, 33, 1)\n",
            "y_train shape:  (111404, 1)\n",
            "y_valid shape:  (30000, 1)\n",
            "X_test  shape:  (111404, 33, 1)\n"
          ],
          "name": "stdout"
        }
      ]
    },
    {
      "cell_type": "markdown",
      "metadata": {
        "id": "_ySJrGFVvFtz",
        "colab_type": "text"
      },
      "source": [
        "Now data set is ready for modeling "
      ]
    },
    {
      "cell_type": "code",
      "metadata": {
        "id": "LkWCLzLxpfAi",
        "colab_type": "code",
        "colab": {}
      },
      "source": [
        "from tensorflow.keras.layers import Dense, Input, Flatten, Dropout,concatenate\n",
        "from tensorflow.keras.layers import Conv1D,Conv2D, MaxPooling1D, Embedding,TimeDistributed\n",
        "from tensorflow.keras.layers import LSTM, Bidirectional, GRU\n",
        "from tensorflow.keras.models import Model,Sequential\n",
        "from tensorflow.keras.callbacks import EarlyStopping,LearningRateScheduler\n",
        "from tensorflow.keras.regularizers import l2"
      ],
      "execution_count": 0,
      "outputs": []
    },
    {
      "cell_type": "code",
      "metadata": {
        "id": "EImz9cam50W4",
        "colab_type": "code",
        "colab": {}
      },
      "source": [
        "def scheduler(epoch):\n",
        "  if epoch < 10:\n",
        "    return 0.01\n",
        "  else:\n",
        "    return 0.01 * tf.math.exp(0.1 * (10 - epoch))\n",
        "lr_scheduler = LearningRateScheduler(scheduler) \n",
        "# This callback will stop the training when there is no improvement in\n",
        "# the validation loss for 50 consecutive epochs and will save best weights\n",
        "callback = EarlyStopping(monitor='val_loss', patience=30,restore_best_weights=True,mode=\"min\") "
      ],
      "execution_count": 0,
      "outputs": []
    },
    {
      "cell_type": "markdown",
      "metadata": {
        "id": "YezHwpHVwRDe",
        "colab_type": "text"
      },
      "source": [
        "#1. MLP as regressor"
      ]
    },
    {
      "cell_type": "code",
      "metadata": {
        "id": "PmlHi7-KwJ8v",
        "colab_type": "code",
        "colab": {}
      },
      "source": [
        "#input : [sample , features] , does not care about time dependencies"
      ],
      "execution_count": 0,
      "outputs": []
    },
    {
      "cell_type": "code",
      "metadata": {
        "id": "IwvZo8XVxMNn",
        "colab_type": "code",
        "colab": {}
      },
      "source": [
        "def MLP():\n",
        "  model = Sequential()\n",
        "  model.add(Dense(100,activation='relu',input_dim= 33))\n",
        "  model.add(Dense(100, activation='relu'))\n",
        "  model.add(Dropout(0.5))\n",
        "  model.add(Dense(200, activation='relu'))\n",
        "  model.add(Dense(200, activation='relu'))\n",
        "  model.add(Dropout(0.5))\n",
        "  model.add(Dense(100, activation='relu'))\n",
        "  model.add(Dense(100, activation='relu'))\n",
        "  model.add(Dropout(0.5))\n",
        "  model.add(Dense(50, activation='relu'))\n",
        "  model.add(Dense(50, activation='relu'))\n",
        "  model.add(Dropout(0.5))\n",
        "  model.add(Dense(1))\n",
        "  model.compile(optimizer=tf.keras.optimizers.RMSprop(learning_rate=1e-2), loss='mse')\n",
        "  print (model.summary())\n",
        "  return model"
      ],
      "execution_count": 0,
      "outputs": []
    },
    {
      "cell_type": "code",
      "metadata": {
        "id": "UBLuICP53lWs",
        "colab_type": "code",
        "colab": {
          "base_uri": "https://localhost:8080/",
          "height": 1000
        },
        "outputId": "c80c5443-dafd-478b-cc4a-9027813b3468"
      },
      "source": [
        "model = MLP()\n",
        "model.fit(X_train,y_train,validation_data=(X_val, y_val), callbacks=[callback,lr_scheduler], epochs=100, batch_size=1000, verbose=1)"
      ],
      "execution_count": 43,
      "outputs": [
        {
          "output_type": "stream",
          "text": [
            "Model: \"sequential\"\n",
            "_________________________________________________________________\n",
            "Layer (type)                 Output Shape              Param #   \n",
            "=================================================================\n",
            "dense (Dense)                (None, 100)               3400      \n",
            "_________________________________________________________________\n",
            "dense_1 (Dense)              (None, 100)               10100     \n",
            "_________________________________________________________________\n",
            "dropout (Dropout)            (None, 100)               0         \n",
            "_________________________________________________________________\n",
            "dense_2 (Dense)              (None, 200)               20200     \n",
            "_________________________________________________________________\n",
            "dense_3 (Dense)              (None, 200)               40200     \n",
            "_________________________________________________________________\n",
            "dropout_1 (Dropout)          (None, 200)               0         \n",
            "_________________________________________________________________\n",
            "dense_4 (Dense)              (None, 100)               20100     \n",
            "_________________________________________________________________\n",
            "dense_5 (Dense)              (None, 100)               10100     \n",
            "_________________________________________________________________\n",
            "dropout_2 (Dropout)          (None, 100)               0         \n",
            "_________________________________________________________________\n",
            "dense_6 (Dense)              (None, 50)                5050      \n",
            "_________________________________________________________________\n",
            "dense_7 (Dense)              (None, 50)                2550      \n",
            "_________________________________________________________________\n",
            "dropout_3 (Dropout)          (None, 50)                0         \n",
            "_________________________________________________________________\n",
            "dense_8 (Dense)              (None, 1)                 51        \n",
            "=================================================================\n",
            "Total params: 111,751\n",
            "Trainable params: 111,751\n",
            "Non-trainable params: 0\n",
            "_________________________________________________________________\n",
            "None\n",
            "Epoch 1/100\n",
            "112/112 [==============================] - 1s 6ms/step - loss: 18.3600 - val_loss: 2.5822 - lr: 0.0100\n",
            "Epoch 2/100\n",
            "112/112 [==============================] - 1s 5ms/step - loss: 10.6660 - val_loss: 2.3427 - lr: 0.0100\n",
            "Epoch 3/100\n",
            "112/112 [==============================] - 1s 5ms/step - loss: 10.9313 - val_loss: 2.3594 - lr: 0.0100\n",
            "Epoch 4/100\n",
            "112/112 [==============================] - 1s 6ms/step - loss: 10.8439 - val_loss: 2.6176 - lr: 0.0100\n",
            "Epoch 5/100\n",
            "112/112 [==============================] - 1s 5ms/step - loss: 12.6827 - val_loss: 2.6223 - lr: 0.0100\n",
            "Epoch 6/100\n",
            "112/112 [==============================] - 1s 5ms/step - loss: 12.1842 - val_loss: 2.6406 - lr: 0.0100\n",
            "Epoch 7/100\n",
            "112/112 [==============================] - 1s 5ms/step - loss: 12.4233 - val_loss: 2.5629 - lr: 0.0100\n",
            "Epoch 8/100\n",
            "112/112 [==============================] - 1s 5ms/step - loss: 13.3258 - val_loss: 2.6588 - lr: 0.0100\n",
            "Epoch 9/100\n",
            "112/112 [==============================] - 1s 5ms/step - loss: 10.9020 - val_loss: 2.6806 - lr: 0.0100\n",
            "Epoch 10/100\n",
            "112/112 [==============================] - 1s 5ms/step - loss: 13.6229 - val_loss: 2.3708 - lr: 0.0100\n",
            "Epoch 11/100\n",
            "112/112 [==============================] - 1s 5ms/step - loss: 11.7993 - val_loss: 2.7053 - lr: 0.0100\n",
            "Epoch 12/100\n",
            "112/112 [==============================] - 1s 5ms/step - loss: 13.3879 - val_loss: 2.6067 - lr: 0.0090\n",
            "Epoch 13/100\n",
            "112/112 [==============================] - 1s 5ms/step - loss: 13.3595 - val_loss: 2.5570 - lr: 0.0082\n",
            "Epoch 14/100\n",
            "112/112 [==============================] - 1s 5ms/step - loss: 12.9233 - val_loss: 2.4651 - lr: 0.0074\n",
            "Epoch 15/100\n",
            "112/112 [==============================] - 1s 5ms/step - loss: 11.3637 - val_loss: 2.4610 - lr: 0.0067\n",
            "Epoch 16/100\n",
            "112/112 [==============================] - 1s 5ms/step - loss: 12.8747 - val_loss: 2.2053 - lr: 0.0061\n",
            "Epoch 17/100\n",
            "112/112 [==============================] - 1s 5ms/step - loss: 10.3241 - val_loss: 2.3519 - lr: 0.0055\n",
            "Epoch 18/100\n",
            "112/112 [==============================] - 1s 5ms/step - loss: 10.3895 - val_loss: 2.4801 - lr: 0.0050\n",
            "Epoch 19/100\n",
            "112/112 [==============================] - 1s 5ms/step - loss: 10.7562 - val_loss: 2.3447 - lr: 0.0045\n",
            "Epoch 20/100\n",
            "112/112 [==============================] - 1s 5ms/step - loss: 11.5489 - val_loss: 2.4291 - lr: 0.0041\n",
            "Epoch 21/100\n",
            "112/112 [==============================] - 1s 5ms/step - loss: 11.6093 - val_loss: 2.2558 - lr: 0.0037\n",
            "Epoch 22/100\n",
            "112/112 [==============================] - 1s 5ms/step - loss: 8.2902 - val_loss: 2.4556 - lr: 0.0033\n",
            "Epoch 23/100\n",
            "112/112 [==============================] - 1s 5ms/step - loss: 8.1669 - val_loss: 2.2547 - lr: 0.0030\n",
            "Epoch 24/100\n",
            "112/112 [==============================] - 1s 5ms/step - loss: 12.7788 - val_loss: 2.3572 - lr: 0.0027\n",
            "Epoch 25/100\n",
            "112/112 [==============================] - 1s 5ms/step - loss: 10.3228 - val_loss: 2.2746 - lr: 0.0025\n",
            "Epoch 26/100\n",
            "112/112 [==============================] - 1s 5ms/step - loss: 14.1335 - val_loss: 2.3612 - lr: 0.0022\n",
            "Epoch 27/100\n",
            "112/112 [==============================] - 1s 5ms/step - loss: 7.8425 - val_loss: 2.3537 - lr: 0.0020\n",
            "Epoch 28/100\n",
            "112/112 [==============================] - 1s 5ms/step - loss: 9.4129 - val_loss: 2.2415 - lr: 0.0018\n",
            "Epoch 29/100\n",
            "112/112 [==============================] - 1s 5ms/step - loss: 8.7620 - val_loss: 2.2791 - lr: 0.0017\n",
            "Epoch 30/100\n",
            "112/112 [==============================] - 1s 5ms/step - loss: 11.3247 - val_loss: 2.2907 - lr: 0.0015\n",
            "Epoch 31/100\n",
            "112/112 [==============================] - 1s 5ms/step - loss: 9.1799 - val_loss: 2.2137 - lr: 0.0014\n",
            "Epoch 32/100\n",
            "112/112 [==============================] - 1s 5ms/step - loss: 8.4700 - val_loss: 2.2543 - lr: 0.0012\n",
            "Epoch 33/100\n",
            "112/112 [==============================] - 1s 5ms/step - loss: 7.7879 - val_loss: 2.1458 - lr: 0.0011\n",
            "Epoch 34/100\n",
            "112/112 [==============================] - 1s 5ms/step - loss: 20.0252 - val_loss: 2.2374 - lr: 0.0010\n",
            "Epoch 35/100\n",
            "112/112 [==============================] - 1s 5ms/step - loss: 12.7268 - val_loss: 2.1948 - lr: 9.0718e-04\n",
            "Epoch 36/100\n",
            "112/112 [==============================] - 1s 5ms/step - loss: 10.3839 - val_loss: 2.2934 - lr: 8.2085e-04\n",
            "Epoch 37/100\n",
            "112/112 [==============================] - 1s 5ms/step - loss: 8.8274 - val_loss: 2.3088 - lr: 7.4274e-04\n",
            "Epoch 38/100\n",
            "112/112 [==============================] - 1s 5ms/step - loss: 9.0667 - val_loss: 2.2765 - lr: 6.7206e-04\n",
            "Epoch 39/100\n",
            "112/112 [==============================] - 1s 5ms/step - loss: 10.6642 - val_loss: 2.2742 - lr: 6.0810e-04\n",
            "Epoch 40/100\n",
            "112/112 [==============================] - 1s 5ms/step - loss: 8.0029 - val_loss: 2.1996 - lr: 5.5023e-04\n",
            "Epoch 41/100\n",
            "112/112 [==============================] - 1s 5ms/step - loss: 7.1677 - val_loss: 2.2635 - lr: 4.9787e-04\n",
            "Epoch 42/100\n",
            "112/112 [==============================] - 1s 5ms/step - loss: 9.7344 - val_loss: 2.2217 - lr: 4.5049e-04\n",
            "Epoch 43/100\n",
            "112/112 [==============================] - 1s 4ms/step - loss: 8.2152 - val_loss: 2.2854 - lr: 4.0762e-04\n",
            "Epoch 44/100\n",
            "112/112 [==============================] - 1s 5ms/step - loss: 7.5734 - val_loss: 2.2467 - lr: 3.6883e-04\n",
            "Epoch 45/100\n",
            "112/112 [==============================] - 1s 5ms/step - loss: 12.3317 - val_loss: 2.2062 - lr: 3.3373e-04\n",
            "Epoch 46/100\n",
            "112/112 [==============================] - 1s 5ms/step - loss: 9.4476 - val_loss: 2.1633 - lr: 3.0197e-04\n",
            "Epoch 47/100\n",
            "112/112 [==============================] - 1s 5ms/step - loss: 9.1499 - val_loss: 2.2237 - lr: 2.7324e-04\n",
            "Epoch 48/100\n",
            "112/112 [==============================] - 1s 5ms/step - loss: 8.3098 - val_loss: 2.2501 - lr: 2.4724e-04\n",
            "Epoch 49/100\n",
            "112/112 [==============================] - 1s 4ms/step - loss: 7.4779 - val_loss: 2.2413 - lr: 2.2371e-04\n",
            "Epoch 50/100\n",
            "112/112 [==============================] - 1s 5ms/step - loss: 7.9570 - val_loss: 2.2086 - lr: 2.0242e-04\n",
            "Epoch 51/100\n",
            "112/112 [==============================] - 1s 5ms/step - loss: 10.0388 - val_loss: 2.2340 - lr: 1.8316e-04\n",
            "Epoch 52/100\n",
            "112/112 [==============================] - 1s 5ms/step - loss: 8.4663 - val_loss: 2.2096 - lr: 1.6573e-04\n",
            "Epoch 53/100\n",
            "112/112 [==============================] - 1s 5ms/step - loss: 7.7602 - val_loss: 2.2244 - lr: 1.4996e-04\n",
            "Epoch 54/100\n",
            "112/112 [==============================] - 1s 5ms/step - loss: 6.5839 - val_loss: 2.2110 - lr: 1.3569e-04\n",
            "Epoch 55/100\n",
            "112/112 [==============================] - 1s 5ms/step - loss: 8.6662 - val_loss: 2.2175 - lr: 1.2277e-04\n",
            "Epoch 56/100\n",
            "112/112 [==============================] - 1s 5ms/step - loss: 8.4445 - val_loss: 2.2128 - lr: 1.1109e-04\n",
            "Epoch 57/100\n",
            "112/112 [==============================] - 1s 5ms/step - loss: 8.1399 - val_loss: 2.2184 - lr: 1.0052e-04\n",
            "Epoch 58/100\n",
            "112/112 [==============================] - 1s 5ms/step - loss: 7.6836 - val_loss: 2.2047 - lr: 9.0953e-05\n",
            "Epoch 59/100\n",
            "112/112 [==============================] - 1s 5ms/step - loss: 8.6274 - val_loss: 2.1943 - lr: 8.2297e-05\n",
            "Epoch 60/100\n",
            "112/112 [==============================] - 1s 5ms/step - loss: 8.3644 - val_loss: 2.1881 - lr: 7.4466e-05\n",
            "Epoch 61/100\n",
            "112/112 [==============================] - 1s 5ms/step - loss: 7.1594 - val_loss: 2.1970 - lr: 6.7379e-05\n",
            "Epoch 62/100\n",
            "112/112 [==============================] - 1s 5ms/step - loss: 8.0652 - val_loss: 2.2057 - lr: 6.0967e-05\n",
            "Epoch 63/100\n",
            "112/112 [==============================] - 1s 5ms/step - loss: 7.0488 - val_loss: 2.2057 - lr: 5.5166e-05\n"
          ],
          "name": "stdout"
        },
        {
          "output_type": "execute_result",
          "data": {
            "text/plain": [
              "<tensorflow.python.keras.callbacks.History at 0x7fa6b04899b0>"
            ]
          },
          "metadata": {
            "tags": []
          },
          "execution_count": 43
        }
      ]
    },
    {
      "cell_type": "code",
      "metadata": {
        "id": "uDI_csZf3x0I",
        "colab_type": "code",
        "colab": {
          "base_uri": "https://localhost:8080/",
          "height": 35
        },
        "outputId": "58341e86-cc16-428f-edef-abc328605408"
      },
      "source": [
        "y_predicted = model.predict(X_test, verbose=1, batch_size=1000)"
      ],
      "execution_count": 44,
      "outputs": [
        {
          "output_type": "stream",
          "text": [
            "112/112 [==============================] - 0s 1ms/step\n"
          ],
          "name": "stdout"
        }
      ]
    },
    {
      "cell_type": "code",
      "metadata": {
        "id": "sj5SpUl-8Emw",
        "colab_type": "code",
        "colab": {
          "base_uri": "https://localhost:8080/",
          "height": 35
        },
        "outputId": "d8d8ec64-735e-4f0d-c618-8776d7fadd9b"
      },
      "source": [
        "#let's cpmapre on validation set how it's predicting \n",
        "y_pred_val = model.predict(X_val, verbose=1, batch_size=1000)"
      ],
      "execution_count": 45,
      "outputs": [
        {
          "output_type": "stream",
          "text": [
            "30/30 [==============================] - 0s 1ms/step\n"
          ],
          "name": "stdout"
        }
      ]
    },
    {
      "cell_type": "code",
      "metadata": {
        "id": "RaEcSNu58rgk",
        "colab_type": "code",
        "colab": {}
      },
      "source": [
        ""
      ],
      "execution_count": 0,
      "outputs": []
    },
    {
      "cell_type": "markdown",
      "metadata": {
        "id": "_bncuqD8F8D_",
        "colab_type": "text"
      },
      "source": [
        "# 2. CNN as Regressor"
      ]
    },
    {
      "cell_type": "code",
      "metadata": {
        "id": "BLWcnhksGAtS",
        "colab_type": "code",
        "colab": {}
      },
      "source": [
        "def CNN():\n",
        "  model = Sequential()\n",
        "  model.add(Conv1D(32, kernel_size=3,activation='relu',input_shape=(33,1)))\n",
        "  model.add(Conv1D(64, kernel_size=3,activation='relu'))\n",
        "  model.add(MaxPooling1D(pool_size=2))\n",
        "  model.add(Dropout(0.5))\n",
        "  model.add(Conv1D(128, kernel_size=3,activation='relu'))\n",
        "  model.add(Conv1D(256, kernel_size=3,activation='relu'))\n",
        "  model.add(Dropout(0.5))\n",
        "  model.add(MaxPooling1D(pool_size=2))\n",
        "  model.add(Conv1D(128, kernel_size=3,activation='relu'))\n",
        "  model.add(Conv1D(64, kernel_size=3,activation='relu'))\n",
        "  model.add(Flatten())\n",
        "  model.add(Dense(50))\n",
        "  model.add(Dense(1))\n",
        "  print (model.summary())\n",
        "  model.compile(optimizer='rmsprop', loss='mse')\n",
        "  return model"
      ],
      "execution_count": 0,
      "outputs": []
    },
    {
      "cell_type": "code",
      "metadata": {
        "id": "0qZzAwgbMY_4",
        "colab_type": "code",
        "colab": {
          "base_uri": "https://localhost:8080/",
          "height": 1000
        },
        "outputId": "c5df5622-5cc0-485b-c4f5-f7857af0b8d3"
      },
      "source": [
        "model = CNN()\n",
        "model.fit(X_train_timesteps,y_train,validation_data=(X_val_timesteps, y_val), callbacks=[callback,lr_scheduler], epochs=100, batch_size=1000, verbose=1)"
      ],
      "execution_count": 47,
      "outputs": [
        {
          "output_type": "stream",
          "text": [
            "Model: \"sequential_1\"\n",
            "_________________________________________________________________\n",
            "Layer (type)                 Output Shape              Param #   \n",
            "=================================================================\n",
            "conv1d (Conv1D)              (None, 31, 32)            128       \n",
            "_________________________________________________________________\n",
            "conv1d_1 (Conv1D)            (None, 29, 64)            6208      \n",
            "_________________________________________________________________\n",
            "max_pooling1d (MaxPooling1D) (None, 14, 64)            0         \n",
            "_________________________________________________________________\n",
            "dropout_4 (Dropout)          (None, 14, 64)            0         \n",
            "_________________________________________________________________\n",
            "conv1d_2 (Conv1D)            (None, 12, 128)           24704     \n",
            "_________________________________________________________________\n",
            "conv1d_3 (Conv1D)            (None, 10, 256)           98560     \n",
            "_________________________________________________________________\n",
            "dropout_5 (Dropout)          (None, 10, 256)           0         \n",
            "_________________________________________________________________\n",
            "max_pooling1d_1 (MaxPooling1 (None, 5, 256)            0         \n",
            "_________________________________________________________________\n",
            "conv1d_4 (Conv1D)            (None, 3, 128)            98432     \n",
            "_________________________________________________________________\n",
            "conv1d_5 (Conv1D)            (None, 1, 64)             24640     \n",
            "_________________________________________________________________\n",
            "flatten (Flatten)            (None, 64)                0         \n",
            "_________________________________________________________________\n",
            "dense_9 (Dense)              (None, 50)                3250      \n",
            "_________________________________________________________________\n",
            "dense_10 (Dense)             (None, 1)                 51        \n",
            "=================================================================\n",
            "Total params: 255,973\n",
            "Trainable params: 255,973\n",
            "Non-trainable params: 0\n",
            "_________________________________________________________________\n",
            "None\n",
            "Epoch 1/100\n",
            "112/112 [==============================] - 3s 25ms/step - loss: 2023968.8750 - val_loss: 2.5609 - lr: 0.0100\n",
            "Epoch 2/100\n",
            "112/112 [==============================] - 2s 22ms/step - loss: 11.0878 - val_loss: 2.7903 - lr: 0.0100\n",
            "Epoch 3/100\n",
            "112/112 [==============================] - 2s 22ms/step - loss: 22.9001 - val_loss: 2.7097 - lr: 0.0100\n",
            "Epoch 4/100\n",
            "112/112 [==============================] - 2s 22ms/step - loss: 93.6343 - val_loss: 2.6199 - lr: 0.0100\n",
            "Epoch 5/100\n",
            "112/112 [==============================] - 2s 22ms/step - loss: 32.6137 - val_loss: 2.8050 - lr: 0.0100\n",
            "Epoch 6/100\n",
            "112/112 [==============================] - 2s 22ms/step - loss: 14.4932 - val_loss: 2.8394 - lr: 0.0100\n",
            "Epoch 7/100\n",
            "112/112 [==============================] - 2s 21ms/step - loss: 12.8361 - val_loss: 2.8150 - lr: 0.0100\n",
            "Epoch 8/100\n",
            "112/112 [==============================] - 2s 22ms/step - loss: 12.9882 - val_loss: 4.2225 - lr: 0.0100\n",
            "Epoch 9/100\n",
            "112/112 [==============================] - 2s 22ms/step - loss: 14.5870 - val_loss: 2.8753 - lr: 0.0100\n",
            "Epoch 10/100\n",
            "112/112 [==============================] - 2s 22ms/step - loss: 13.9276 - val_loss: 3.9165 - lr: 0.0100\n",
            "Epoch 11/100\n",
            "112/112 [==============================] - 2s 21ms/step - loss: 10.7099 - val_loss: 2.7878 - lr: 0.0100\n",
            "Epoch 12/100\n",
            "112/112 [==============================] - 2s 21ms/step - loss: 12.2451 - val_loss: 2.4051 - lr: 0.0090\n",
            "Epoch 13/100\n",
            "112/112 [==============================] - 2s 21ms/step - loss: 11.5813 - val_loss: 2.5705 - lr: 0.0082\n",
            "Epoch 14/100\n",
            "112/112 [==============================] - 2s 21ms/step - loss: 7.3546 - val_loss: 2.3161 - lr: 0.0074\n",
            "Epoch 15/100\n",
            "112/112 [==============================] - 2s 21ms/step - loss: 10.1867 - val_loss: 2.5261 - lr: 0.0067\n",
            "Epoch 16/100\n",
            "112/112 [==============================] - 2s 21ms/step - loss: 34.2367 - val_loss: 2.7064 - lr: 0.0061\n",
            "Epoch 17/100\n",
            "112/112 [==============================] - 2s 21ms/step - loss: 10.7710 - val_loss: 2.5411 - lr: 0.0055\n",
            "Epoch 18/100\n",
            "112/112 [==============================] - 2s 21ms/step - loss: 7.3250 - val_loss: 2.3527 - lr: 0.0050\n",
            "Epoch 19/100\n",
            "112/112 [==============================] - 2s 21ms/step - loss: 6.7710 - val_loss: 2.2264 - lr: 0.0045\n",
            "Epoch 20/100\n",
            "112/112 [==============================] - 2s 21ms/step - loss: 7.4970 - val_loss: 2.2722 - lr: 0.0041\n",
            "Epoch 21/100\n",
            "112/112 [==============================] - 2s 22ms/step - loss: 9.1848 - val_loss: 2.1549 - lr: 0.0037\n",
            "Epoch 22/100\n",
            "112/112 [==============================] - 2s 21ms/step - loss: 7.2330 - val_loss: 2.3424 - lr: 0.0033\n",
            "Epoch 23/100\n",
            "112/112 [==============================] - 2s 21ms/step - loss: 7.8797 - val_loss: 2.4105 - lr: 0.0030\n",
            "Epoch 24/100\n",
            "112/112 [==============================] - 2s 21ms/step - loss: 7.9900 - val_loss: 2.2737 - lr: 0.0027\n",
            "Epoch 25/100\n",
            "112/112 [==============================] - 2s 21ms/step - loss: 6.2992 - val_loss: 2.1712 - lr: 0.0025\n",
            "Epoch 26/100\n",
            "112/112 [==============================] - 2s 21ms/step - loss: 7.0057 - val_loss: 2.2940 - lr: 0.0022\n",
            "Epoch 27/100\n",
            "112/112 [==============================] - 2s 21ms/step - loss: 5.6562 - val_loss: 2.1381 - lr: 0.0020\n",
            "Epoch 28/100\n",
            "112/112 [==============================] - 2s 21ms/step - loss: 7.1452 - val_loss: 2.2882 - lr: 0.0018\n",
            "Epoch 29/100\n",
            "112/112 [==============================] - 2s 21ms/step - loss: 6.3133 - val_loss: 2.1745 - lr: 0.0017\n",
            "Epoch 30/100\n",
            "112/112 [==============================] - 2s 21ms/step - loss: 5.3892 - val_loss: 2.3173 - lr: 0.0015\n",
            "Epoch 31/100\n",
            "112/112 [==============================] - 2s 22ms/step - loss: 4.9529 - val_loss: 2.2402 - lr: 0.0014\n",
            "Epoch 32/100\n",
            "112/112 [==============================] - 2s 22ms/step - loss: 5.7542 - val_loss: 2.3081 - lr: 0.0012\n",
            "Epoch 33/100\n",
            "112/112 [==============================] - 2s 21ms/step - loss: 6.8621 - val_loss: 2.2216 - lr: 0.0011\n",
            "Epoch 34/100\n",
            "112/112 [==============================] - 2s 21ms/step - loss: 6.3960 - val_loss: 2.2152 - lr: 0.0010\n",
            "Epoch 35/100\n",
            "112/112 [==============================] - 2s 21ms/step - loss: 6.0795 - val_loss: 2.2817 - lr: 9.0718e-04\n",
            "Epoch 36/100\n",
            "112/112 [==============================] - 2s 21ms/step - loss: 5.5172 - val_loss: 2.1612 - lr: 8.2085e-04\n",
            "Epoch 37/100\n",
            "112/112 [==============================] - 2s 21ms/step - loss: 6.4987 - val_loss: 2.1980 - lr: 7.4274e-04\n",
            "Epoch 38/100\n",
            "112/112 [==============================] - 2s 21ms/step - loss: 7.0949 - val_loss: 2.1949 - lr: 6.7206e-04\n",
            "Epoch 39/100\n",
            "112/112 [==============================] - 2s 22ms/step - loss: 5.8183 - val_loss: 2.2185 - lr: 6.0810e-04\n",
            "Epoch 40/100\n",
            "112/112 [==============================] - 2s 21ms/step - loss: 5.4431 - val_loss: 2.1869 - lr: 5.5023e-04\n",
            "Epoch 41/100\n",
            "112/112 [==============================] - 2s 21ms/step - loss: 5.8857 - val_loss: 2.1618 - lr: 4.9787e-04\n",
            "Epoch 42/100\n",
            "112/112 [==============================] - 2s 21ms/step - loss: 6.3666 - val_loss: 2.2217 - lr: 4.5049e-04\n",
            "Epoch 43/100\n",
            "112/112 [==============================] - 2s 21ms/step - loss: 6.2845 - val_loss: 2.1814 - lr: 4.0762e-04\n",
            "Epoch 44/100\n",
            "112/112 [==============================] - 2s 21ms/step - loss: 6.2695 - val_loss: 2.1980 - lr: 3.6883e-04\n",
            "Epoch 45/100\n",
            "112/112 [==============================] - 2s 21ms/step - loss: 5.9535 - val_loss: 2.1677 - lr: 3.3373e-04\n",
            "Epoch 46/100\n",
            "112/112 [==============================] - 2s 21ms/step - loss: 5.4904 - val_loss: 2.1727 - lr: 3.0197e-04\n",
            "Epoch 47/100\n",
            "112/112 [==============================] - 2s 21ms/step - loss: 5.8160 - val_loss: 2.2284 - lr: 2.7324e-04\n",
            "Epoch 48/100\n",
            "112/112 [==============================] - 2s 21ms/step - loss: 5.7779 - val_loss: 2.1947 - lr: 2.4724e-04\n",
            "Epoch 49/100\n",
            "112/112 [==============================] - 2s 22ms/step - loss: 5.2903 - val_loss: 2.2241 - lr: 2.2371e-04\n",
            "Epoch 50/100\n",
            "112/112 [==============================] - 2s 21ms/step - loss: 6.1081 - val_loss: 2.2122 - lr: 2.0242e-04\n",
            "Epoch 51/100\n",
            "112/112 [==============================] - 2s 21ms/step - loss: 5.5541 - val_loss: 2.1874 - lr: 1.8316e-04\n",
            "Epoch 52/100\n",
            "112/112 [==============================] - 2s 21ms/step - loss: 5.0331 - val_loss: 2.1656 - lr: 1.6573e-04\n",
            "Epoch 53/100\n",
            "112/112 [==============================] - 2s 21ms/step - loss: 6.2136 - val_loss: 2.1688 - lr: 1.4996e-04\n",
            "Epoch 54/100\n",
            "112/112 [==============================] - 2s 21ms/step - loss: 5.8872 - val_loss: 2.1848 - lr: 1.3569e-04\n",
            "Epoch 55/100\n",
            "112/112 [==============================] - 2s 21ms/step - loss: 5.3291 - val_loss: 2.1914 - lr: 1.2277e-04\n",
            "Epoch 56/100\n",
            "112/112 [==============================] - 2s 21ms/step - loss: 5.4000 - val_loss: 2.1948 - lr: 1.1109e-04\n",
            "Epoch 57/100\n",
            "112/112 [==============================] - 2s 22ms/step - loss: 5.6614 - val_loss: 2.1898 - lr: 1.0052e-04\n"
          ],
          "name": "stdout"
        },
        {
          "output_type": "execute_result",
          "data": {
            "text/plain": [
              "<tensorflow.python.keras.callbacks.History at 0x7fa6b0040c88>"
            ]
          },
          "metadata": {
            "tags": []
          },
          "execution_count": 47
        }
      ]
    },
    {
      "cell_type": "markdown",
      "metadata": {
        "id": "LbBZ-oGfWNTs",
        "colab_type": "text"
      },
      "source": [
        "#Why Validation loss is less than trainin loss\n",
        "reasons:\n",
        "\n",
        "1. Regularization applied during training, but not during validation/testing.\n",
        "\n",
        "2. Training loss is measured during each epoch while validation loss is measured after each epoch.\n",
        "\n",
        "3. The validation set may be easier than the training set (or there may be leaks).\n",
        "\n",
        "link : https://www.pyimagesearch.com/2019/10/14/why-is-my-validation-loss-lower-than-my-training-loss/\n",
        "\n"
      ]
    },
    {
      "cell_type": "code",
      "metadata": {
        "id": "N9H4aUMUMfln",
        "colab_type": "code",
        "colab": {}
      },
      "source": [
        ""
      ],
      "execution_count": 0,
      "outputs": []
    },
    {
      "cell_type": "markdown",
      "metadata": {
        "id": "NvydHSEaW50g",
        "colab_type": "text"
      },
      "source": [
        "#3. LSTM \n",
        "\n",
        "It will learn patterns from long sequences."
      ]
    },
    {
      "cell_type": "code",
      "metadata": {
        "id": "COGz_UQFXjGh",
        "colab_type": "code",
        "colab": {}
      },
      "source": [
        "def LSTM_Model():\n",
        "  model = Sequential()\n",
        "  model.add(LSTM(100,return_sequences=True,input_shape=(33,1))) #return_sequences=True\n",
        "  model.add(LSTM(100,dropout=0.2,return_sequences=True))\n",
        "  model.add(LSTM(100,dropout=0.2,return_sequences=True))\n",
        "  model.add(LSTM(100,dropout=0.2))\n",
        "  model.add(Dropout(0.5))\n",
        "  model.add(Dense(1))\n",
        "  model.compile(optimizer='rmsprop', loss='mse')\n",
        "  print(model.summary())\n",
        "  return model"
      ],
      "execution_count": 0,
      "outputs": []
    },
    {
      "cell_type": "code",
      "metadata": {
        "id": "MnHw73NkZPcR",
        "colab_type": "code",
        "colab": {
          "base_uri": "https://localhost:8080/",
          "height": 1000
        },
        "outputId": "9f580c04-689e-4fb4-b593-0ea67807e89c"
      },
      "source": [
        "model = LSTM_Model()\n",
        "model.fit(X_train_timesteps,y_train,validation_data=(X_val_timesteps, y_val), callbacks=[callback,lr_scheduler], epochs=100, batch_size=1000, verbose=1)"
      ],
      "execution_count": 49,
      "outputs": [
        {
          "output_type": "stream",
          "text": [
            "Model: \"sequential_2\"\n",
            "_________________________________________________________________\n",
            "Layer (type)                 Output Shape              Param #   \n",
            "=================================================================\n",
            "lstm (LSTM)                  (None, 33, 100)           40800     \n",
            "_________________________________________________________________\n",
            "lstm_1 (LSTM)                (None, 33, 100)           80400     \n",
            "_________________________________________________________________\n",
            "lstm_2 (LSTM)                (None, 33, 100)           80400     \n",
            "_________________________________________________________________\n",
            "lstm_3 (LSTM)                (None, 100)               80400     \n",
            "_________________________________________________________________\n",
            "dropout_6 (Dropout)          (None, 100)               0         \n",
            "_________________________________________________________________\n",
            "dense_11 (Dense)             (None, 1)                 101       \n",
            "=================================================================\n",
            "Total params: 282,101\n",
            "Trainable params: 282,101\n",
            "Non-trainable params: 0\n",
            "_________________________________________________________________\n",
            "None\n",
            "Epoch 1/100\n",
            "112/112 [==============================] - 8s 71ms/step - loss: 13.8383 - val_loss: 2.7988 - lr: 0.0100\n",
            "Epoch 2/100\n",
            "112/112 [==============================] - 7s 60ms/step - loss: 12.6341 - val_loss: 2.4516 - lr: 0.0100\n",
            "Epoch 3/100\n",
            "112/112 [==============================] - 7s 60ms/step - loss: 11.7014 - val_loss: 2.3712 - lr: 0.0100\n",
            "Epoch 4/100\n",
            "112/112 [==============================] - 7s 60ms/step - loss: 11.0563 - val_loss: 2.2662 - lr: 0.0100\n",
            "Epoch 5/100\n",
            "112/112 [==============================] - 7s 60ms/step - loss: 10.8328 - val_loss: 2.2301 - lr: 0.0100\n",
            "Epoch 6/100\n",
            "112/112 [==============================] - 7s 60ms/step - loss: 10.7165 - val_loss: 2.2132 - lr: 0.0100\n",
            "Epoch 7/100\n",
            "112/112 [==============================] - 7s 60ms/step - loss: 10.0842 - val_loss: 2.1837 - lr: 0.0100\n",
            "Epoch 8/100\n",
            "112/112 [==============================] - 7s 60ms/step - loss: 10.3189 - val_loss: 2.1916 - lr: 0.0100\n",
            "Epoch 9/100\n",
            "112/112 [==============================] - 7s 60ms/step - loss: 9.6640 - val_loss: 2.1436 - lr: 0.0100\n",
            "Epoch 10/100\n",
            "112/112 [==============================] - 7s 60ms/step - loss: 9.8377 - val_loss: 2.1388 - lr: 0.0100\n",
            "Epoch 11/100\n",
            "112/112 [==============================] - 7s 60ms/step - loss: 9.7942 - val_loss: 2.1194 - lr: 0.0100\n",
            "Epoch 12/100\n",
            "112/112 [==============================] - 7s 60ms/step - loss: 9.5660 - val_loss: 2.1584 - lr: 0.0090\n",
            "Epoch 13/100\n",
            "112/112 [==============================] - 7s 60ms/step - loss: 9.2371 - val_loss: 2.1283 - lr: 0.0082\n",
            "Epoch 14/100\n",
            "112/112 [==============================] - 7s 60ms/step - loss: 44.4519 - val_loss: 2.1681 - lr: 0.0074\n",
            "Epoch 15/100\n",
            "112/112 [==============================] - 7s 60ms/step - loss: 9.2596 - val_loss: 1.9761 - lr: 0.0067\n",
            "Epoch 16/100\n",
            "112/112 [==============================] - 7s 60ms/step - loss: 9.3193 - val_loss: 2.1951 - lr: 0.0061\n",
            "Epoch 17/100\n",
            "112/112 [==============================] - 7s 60ms/step - loss: 9.1351 - val_loss: 1.9740 - lr: 0.0055\n",
            "Epoch 18/100\n",
            "112/112 [==============================] - 7s 60ms/step - loss: 8.9799 - val_loss: 1.9756 - lr: 0.0050\n",
            "Epoch 19/100\n",
            "112/112 [==============================] - 7s 61ms/step - loss: 8.8594 - val_loss: 1.9501 - lr: 0.0045\n",
            "Epoch 20/100\n",
            "112/112 [==============================] - 7s 61ms/step - loss: 8.9543 - val_loss: 1.9595 - lr: 0.0041\n",
            "Epoch 21/100\n",
            "112/112 [==============================] - 7s 61ms/step - loss: 8.4516 - val_loss: 1.9491 - lr: 0.0037\n",
            "Epoch 22/100\n",
            "112/112 [==============================] - 7s 61ms/step - loss: 8.6262 - val_loss: 1.9631 - lr: 0.0033\n",
            "Epoch 23/100\n",
            "112/112 [==============================] - 7s 61ms/step - loss: 8.5499 - val_loss: 1.9247 - lr: 0.0030\n",
            "Epoch 24/100\n",
            "112/112 [==============================] - 7s 61ms/step - loss: 8.4484 - val_loss: 1.9269 - lr: 0.0027\n",
            "Epoch 25/100\n",
            "112/112 [==============================] - 7s 61ms/step - loss: 8.6706 - val_loss: 1.9086 - lr: 0.0025\n",
            "Epoch 26/100\n",
            "112/112 [==============================] - 7s 61ms/step - loss: 8.5288 - val_loss: 1.9126 - lr: 0.0022\n",
            "Epoch 27/100\n",
            "112/112 [==============================] - 7s 60ms/step - loss: 8.3256 - val_loss: 1.9039 - lr: 0.0020\n",
            "Epoch 28/100\n",
            "112/112 [==============================] - 7s 61ms/step - loss: 8.5214 - val_loss: 1.9075 - lr: 0.0018\n",
            "Epoch 29/100\n",
            "112/112 [==============================] - 7s 61ms/step - loss: 8.3022 - val_loss: 1.9002 - lr: 0.0017\n",
            "Epoch 30/100\n",
            "112/112 [==============================] - 7s 61ms/step - loss: 8.1506 - val_loss: 1.9068 - lr: 0.0015\n",
            "Epoch 31/100\n",
            "112/112 [==============================] - 7s 60ms/step - loss: 8.3071 - val_loss: 1.9059 - lr: 0.0014\n",
            "Epoch 32/100\n",
            "112/112 [==============================] - 7s 61ms/step - loss: 8.2480 - val_loss: 1.8893 - lr: 0.0012\n",
            "Epoch 33/100\n",
            "112/112 [==============================] - 7s 61ms/step - loss: 8.1630 - val_loss: 1.8872 - lr: 0.0011\n",
            "Epoch 34/100\n",
            "112/112 [==============================] - 7s 61ms/step - loss: 8.1688 - val_loss: 1.8979 - lr: 0.0010\n",
            "Epoch 35/100\n",
            "112/112 [==============================] - 7s 61ms/step - loss: 8.1616 - val_loss: 1.8937 - lr: 9.0718e-04\n",
            "Epoch 36/100\n",
            "112/112 [==============================] - 7s 61ms/step - loss: 8.2077 - val_loss: 1.8887 - lr: 8.2085e-04\n",
            "Epoch 37/100\n",
            "112/112 [==============================] - 7s 60ms/step - loss: 8.1324 - val_loss: 1.8893 - lr: 7.4274e-04\n",
            "Epoch 38/100\n",
            "112/112 [==============================] - 7s 61ms/step - loss: 8.0904 - val_loss: 1.8932 - lr: 6.7206e-04\n",
            "Epoch 39/100\n",
            "112/112 [==============================] - 7s 61ms/step - loss: 8.3206 - val_loss: 1.8961 - lr: 6.0810e-04\n",
            "Epoch 40/100\n",
            "112/112 [==============================] - 7s 61ms/step - loss: 7.8995 - val_loss: 1.8892 - lr: 5.5023e-04\n",
            "Epoch 41/100\n",
            "112/112 [==============================] - 7s 61ms/step - loss: 8.1560 - val_loss: 1.8843 - lr: 4.9787e-04\n",
            "Epoch 42/100\n",
            "112/112 [==============================] - 7s 60ms/step - loss: 8.0033 - val_loss: 1.8921 - lr: 4.5049e-04\n",
            "Epoch 43/100\n",
            "112/112 [==============================] - 7s 61ms/step - loss: 7.5537 - val_loss: 1.8890 - lr: 4.0762e-04\n",
            "Epoch 44/100\n",
            "112/112 [==============================] - 7s 61ms/step - loss: 8.0338 - val_loss: 1.8870 - lr: 3.6883e-04\n",
            "Epoch 45/100\n",
            "112/112 [==============================] - 7s 61ms/step - loss: 7.9121 - val_loss: 1.8836 - lr: 3.3373e-04\n",
            "Epoch 46/100\n",
            "112/112 [==============================] - 7s 61ms/step - loss: 7.8386 - val_loss: 1.8816 - lr: 3.0197e-04\n",
            "Epoch 47/100\n",
            "112/112 [==============================] - 7s 61ms/step - loss: 7.9465 - val_loss: 1.8817 - lr: 2.7324e-04\n",
            "Epoch 48/100\n",
            "112/112 [==============================] - 7s 61ms/step - loss: 8.1559 - val_loss: 1.8825 - lr: 2.4724e-04\n",
            "Epoch 49/100\n",
            "112/112 [==============================] - 7s 60ms/step - loss: 7.8647 - val_loss: 1.8835 - lr: 2.2371e-04\n",
            "Epoch 50/100\n",
            "112/112 [==============================] - 7s 61ms/step - loss: 7.8022 - val_loss: 1.8829 - lr: 2.0242e-04\n",
            "Epoch 51/100\n",
            "112/112 [==============================] - 7s 61ms/step - loss: 7.7695 - val_loss: 1.8843 - lr: 1.8316e-04\n",
            "Epoch 52/100\n",
            "112/112 [==============================] - 7s 61ms/step - loss: 7.9013 - val_loss: 1.8838 - lr: 1.6573e-04\n",
            "Epoch 53/100\n",
            "112/112 [==============================] - 7s 61ms/step - loss: 7.6836 - val_loss: 1.8833 - lr: 1.4996e-04\n",
            "Epoch 54/100\n",
            "112/112 [==============================] - 7s 61ms/step - loss: 7.7686 - val_loss: 1.8837 - lr: 1.3569e-04\n",
            "Epoch 55/100\n",
            "112/112 [==============================] - 7s 61ms/step - loss: 7.9351 - val_loss: 1.8838 - lr: 1.2277e-04\n",
            "Epoch 56/100\n",
            "112/112 [==============================] - 7s 61ms/step - loss: 7.7754 - val_loss: 1.8828 - lr: 1.1109e-04\n",
            "Epoch 57/100\n",
            "112/112 [==============================] - 7s 61ms/step - loss: 7.5432 - val_loss: 1.8837 - lr: 1.0052e-04\n",
            "Epoch 58/100\n",
            "112/112 [==============================] - 7s 60ms/step - loss: 7.5454 - val_loss: 1.8849 - lr: 9.0953e-05\n",
            "Epoch 59/100\n",
            "112/112 [==============================] - 7s 60ms/step - loss: 7.9883 - val_loss: 1.8845 - lr: 8.2297e-05\n",
            "Epoch 60/100\n",
            "112/112 [==============================] - 7s 60ms/step - loss: 7.8813 - val_loss: 1.8831 - lr: 7.4466e-05\n",
            "Epoch 61/100\n",
            "112/112 [==============================] - 7s 61ms/step - loss: 7.7657 - val_loss: 1.8836 - lr: 6.7379e-05\n",
            "Epoch 62/100\n",
            "112/112 [==============================] - 7s 61ms/step - loss: 7.9542 - val_loss: 1.8831 - lr: 6.0967e-05\n",
            "Epoch 63/100\n",
            "112/112 [==============================] - 7s 60ms/step - loss: 7.4375 - val_loss: 1.8827 - lr: 5.5166e-05\n",
            "Epoch 64/100\n",
            "112/112 [==============================] - 7s 60ms/step - loss: 7.9119 - val_loss: 1.8826 - lr: 4.9916e-05\n",
            "Epoch 65/100\n",
            "112/112 [==============================] - 7s 60ms/step - loss: 8.0265 - val_loss: 1.8828 - lr: 4.5166e-05\n",
            "Epoch 66/100\n",
            "112/112 [==============================] - 7s 60ms/step - loss: 7.9814 - val_loss: 1.8834 - lr: 4.0868e-05\n",
            "Epoch 67/100\n",
            "112/112 [==============================] - 7s 61ms/step - loss: 7.8729 - val_loss: 1.8831 - lr: 3.6979e-05\n",
            "Epoch 68/100\n",
            "112/112 [==============================] - 7s 61ms/step - loss: 7.8575 - val_loss: 1.8836 - lr: 3.3460e-05\n",
            "Epoch 69/100\n",
            "112/112 [==============================] - 7s 60ms/step - loss: 7.9625 - val_loss: 1.8833 - lr: 3.0276e-05\n",
            "Epoch 70/100\n",
            "112/112 [==============================] - 7s 60ms/step - loss: 7.7622 - val_loss: 1.8831 - lr: 2.7394e-05\n",
            "Epoch 71/100\n",
            "112/112 [==============================] - 7s 61ms/step - loss: 7.4011 - val_loss: 1.8829 - lr: 2.4788e-05\n",
            "Epoch 72/100\n",
            "112/112 [==============================] - 7s 60ms/step - loss: 7.3586 - val_loss: 1.8828 - lr: 2.2429e-05\n",
            "Epoch 73/100\n",
            "112/112 [==============================] - 7s 60ms/step - loss: 7.4177 - val_loss: 1.8828 - lr: 2.0294e-05\n",
            "Epoch 74/100\n",
            "112/112 [==============================] - 7s 60ms/step - loss: 8.3423 - val_loss: 1.8826 - lr: 1.8363e-05\n",
            "Epoch 75/100\n",
            "112/112 [==============================] - 7s 60ms/step - loss: 7.7644 - val_loss: 1.8827 - lr: 1.6616e-05\n",
            "Epoch 76/100\n",
            "112/112 [==============================] - 7s 60ms/step - loss: 7.8567 - val_loss: 1.8826 - lr: 1.5034e-05\n"
          ],
          "name": "stdout"
        },
        {
          "output_type": "execute_result",
          "data": {
            "text/plain": [
              "<tensorflow.python.keras.callbacks.History at 0x7fa68efbe4e0>"
            ]
          },
          "metadata": {
            "tags": []
          },
          "execution_count": 49
        }
      ]
    },
    {
      "cell_type": "code",
      "metadata": {
        "id": "BFhsyRYKafpx",
        "colab_type": "code",
        "colab": {
          "base_uri": "https://localhost:8080/",
          "height": 35
        },
        "outputId": "16e7e393-be56-4bcc-f145-31a90bc472ce"
      },
      "source": [
        "y_pred_lstm = model.predict(X_test_timesteps, verbose=1, batch_size=1000)"
      ],
      "execution_count": 52,
      "outputs": [
        {
          "output_type": "stream",
          "text": [
            "112/112 [==============================] - 2s 20ms/step\n"
          ],
          "name": "stdout"
        }
      ]
    },
    {
      "cell_type": "code",
      "metadata": {
        "id": "jFXV_-lvx-Ro",
        "colab_type": "code",
        "colab": {}
      },
      "source": [
        "\n"
      ],
      "execution_count": 0,
      "outputs": []
    },
    {
      "cell_type": "markdown",
      "metadata": {
        "id": "IZr0cOH_IAps",
        "colab_type": "text"
      },
      "source": [
        "#4. CNN + LSTM \n",
        "\n",
        "Input Shape = [sampes, subsequences, timesteps, features]\n"
      ]
    },
    {
      "cell_type": "code",
      "metadata": {
        "id": "_GfjMJDfIE9l",
        "colab_type": "code",
        "colab": {
          "base_uri": "https://localhost:8080/",
          "height": 35
        },
        "outputId": "0583d1c4-3dc6-4321-d83a-46c7a83a6835"
      },
      "source": [
        "subseq = 3\n",
        "new_timesteps =  X_train_timesteps.shape[1] // subseq\n",
        "X_train_subseq = X_train_timesteps.reshape((X_train_timesteps.shape[0],subseq, new_timesteps,1))\n",
        "X_val_subseq =   X_val_timesteps.reshape((X_val_timesteps.shape[0],subseq, new_timesteps,1))\n",
        "X_test_subseq =  X_test_timesteps.reshape((X_test_timesteps.shape[0],subseq, new_timesteps,1)) \n",
        "print (X_train_subseq.shape, X_val_subseq.shape, X_test_subseq.shape)"
      ],
      "execution_count": 42,
      "outputs": [
        {
          "output_type": "stream",
          "text": [
            "(111404, 3, 11, 1) (30000, 3, 11, 1) (111404, 3, 11, 1)\n"
          ],
          "name": "stdout"
        }
      ]
    },
    {
      "cell_type": "code",
      "metadata": {
        "id": "1WgARTHGKOvc",
        "colab_type": "code",
        "colab": {}
      },
      "source": [
        "def CNN_LSTM():\n",
        "  model = Sequential()\n",
        "  model.add(TimeDistributed(Conv1D(64, kernel_size= 1, activation='relu'),input_shape = (None, 11,1)))\n",
        "  model.add(TimeDistributed(MaxPooling1D(pool_size=2)))\n",
        "  model.add(TimeDistributed(Flatten()))\n",
        "  model.add(LSTM(100,activation='relu',kernel_regularizer=l2(0.01), recurrent_regularizer=l2(0.01)))\n",
        "  model.add(Dense(50,activation='relu',kernel_regularizer=l2(0.01)))\n",
        "  model.add(Dense(1))\n",
        "  model.compile(optimizer='rmsprop', loss='mse')\n",
        "  print(model.summary())\n",
        "  return model   "
      ],
      "execution_count": 0,
      "outputs": []
    },
    {
      "cell_type": "code",
      "metadata": {
        "id": "0a5dtFpqP7um",
        "colab_type": "code",
        "colab": {
          "base_uri": "https://localhost:8080/",
          "height": 1000
        },
        "outputId": "bc5e6bc8-0f37-49ba-b9ea-b59c42285c8a"
      },
      "source": [
        "CNN_LSTM_Model = CNN_LSTM()\n",
        "CNN_LSTM_Model.fit(X_train_subseq,y_train,validation_data=(X_val_subseq, y_val), callbacks=[callback,lr_scheduler], epochs=100, batch_size=1000, verbose=1)"
      ],
      "execution_count": 62,
      "outputs": [
        {
          "output_type": "stream",
          "text": [
            "WARNING:tensorflow:Layer lstm_6 will not use cuDNN kernel since it doesn't meet the cuDNN kernel criteria. It will use generic GPU kernel as fallback when running on GPU\n",
            "Model: \"sequential_7\"\n",
            "_________________________________________________________________\n",
            "Layer (type)                 Output Shape              Param #   \n",
            "=================================================================\n",
            "time_distributed_21 (TimeDis (None, None, 11, 64)      128       \n",
            "_________________________________________________________________\n",
            "time_distributed_22 (TimeDis (None, None, 5, 64)       0         \n",
            "_________________________________________________________________\n",
            "time_distributed_23 (TimeDis (None, None, 320)         0         \n",
            "_________________________________________________________________\n",
            "lstm_6 (LSTM)                (None, 100)               168400    \n",
            "_________________________________________________________________\n",
            "dense_12 (Dense)             (None, 50)                5050      \n",
            "_________________________________________________________________\n",
            "dense_13 (Dense)             (None, 1)                 51        \n",
            "=================================================================\n",
            "Total params: 173,629\n",
            "Trainable params: 173,629\n",
            "Non-trainable params: 0\n",
            "_________________________________________________________________\n",
            "None\n",
            "Epoch 1/100\n",
            "112/112 [==============================] - 2s 16ms/step - loss: 11.1153 - val_loss: 1.7832 - lr: 0.0100\n",
            "Epoch 2/100\n",
            "112/112 [==============================] - 2s 14ms/step - loss: 7.9359 - val_loss: 1.5189 - lr: 0.0100\n",
            "Epoch 3/100\n",
            "112/112 [==============================] - 2s 14ms/step - loss: 7.7943 - val_loss: 1.6235 - lr: 0.0100\n",
            "Epoch 4/100\n",
            "112/112 [==============================] - 2s 14ms/step - loss: 9.2168 - val_loss: 1.9846 - lr: 0.0100\n",
            "Epoch 5/100\n",
            "112/112 [==============================] - 2s 14ms/step - loss: 6.2905 - val_loss: 2.3983 - lr: 0.0100\n",
            "Epoch 6/100\n",
            "112/112 [==============================] - 2s 14ms/step - loss: 9.7334 - val_loss: 1.5336 - lr: 0.0100\n",
            "Epoch 7/100\n",
            "112/112 [==============================] - 2s 14ms/step - loss: 7.4650 - val_loss: 1.7727 - lr: 0.0100\n",
            "Epoch 8/100\n",
            "112/112 [==============================] - 2s 14ms/step - loss: 9.4568 - val_loss: 2.2480 - lr: 0.0100\n",
            "Epoch 9/100\n",
            "112/112 [==============================] - 2s 14ms/step - loss: 9.3028 - val_loss: 1.6179 - lr: 0.0100\n",
            "Epoch 10/100\n",
            "112/112 [==============================] - 2s 14ms/step - loss: 7.3246 - val_loss: 1.6127 - lr: 0.0100\n",
            "Epoch 11/100\n",
            "112/112 [==============================] - 2s 14ms/step - loss: 6.1438 - val_loss: 2.0018 - lr: 0.0100\n",
            "Epoch 12/100\n",
            "112/112 [==============================] - 2s 14ms/step - loss: 8.1757 - val_loss: 1.4154 - lr: 0.0090\n",
            "Epoch 13/100\n",
            "112/112 [==============================] - 2s 14ms/step - loss: 7.4368 - val_loss: 1.8599 - lr: 0.0082\n",
            "Epoch 14/100\n",
            "112/112 [==============================] - 2s 14ms/step - loss: 6.8823 - val_loss: 1.5819 - lr: 0.0074\n",
            "Epoch 15/100\n",
            "112/112 [==============================] - 2s 14ms/step - loss: 6.6504 - val_loss: 1.5370 - lr: 0.0067\n",
            "Epoch 16/100\n",
            "112/112 [==============================] - 2s 14ms/step - loss: 7.5488 - val_loss: 1.4463 - lr: 0.0061\n",
            "Epoch 17/100\n",
            "112/112 [==============================] - 2s 14ms/step - loss: 6.1246 - val_loss: 1.8028 - lr: 0.0055\n",
            "Epoch 18/100\n",
            "112/112 [==============================] - 2s 15ms/step - loss: 6.2012 - val_loss: 1.4429 - lr: 0.0050\n",
            "Epoch 19/100\n",
            "112/112 [==============================] - 2s 14ms/step - loss: 6.4566 - val_loss: 1.6384 - lr: 0.0045\n",
            "Epoch 20/100\n",
            "112/112 [==============================] - 2s 14ms/step - loss: 6.8261 - val_loss: 1.7315 - lr: 0.0041\n",
            "Epoch 21/100\n",
            "112/112 [==============================] - 2s 14ms/step - loss: 6.0529 - val_loss: 2.3724 - lr: 0.0037\n",
            "Epoch 22/100\n",
            "112/112 [==============================] - 2s 14ms/step - loss: 5.9692 - val_loss: 1.3702 - lr: 0.0033\n",
            "Epoch 23/100\n",
            "112/112 [==============================] - 2s 14ms/step - loss: 6.1627 - val_loss: 1.2604 - lr: 0.0030\n",
            "Epoch 24/100\n",
            "112/112 [==============================] - 2s 14ms/step - loss: 7.2648 - val_loss: 1.3437 - lr: 0.0027\n",
            "Epoch 25/100\n",
            "112/112 [==============================] - 2s 14ms/step - loss: 6.6618 - val_loss: 1.2280 - lr: 0.0025\n",
            "Epoch 26/100\n",
            "112/112 [==============================] - 2s 14ms/step - loss: 7.0626 - val_loss: 1.2916 - lr: 0.0022\n",
            "Epoch 27/100\n",
            "112/112 [==============================] - 2s 14ms/step - loss: 6.3063 - val_loss: 1.3990 - lr: 0.0020\n",
            "Epoch 28/100\n",
            "112/112 [==============================] - 2s 14ms/step - loss: 6.0295 - val_loss: 1.4441 - lr: 0.0018\n",
            "Epoch 29/100\n",
            "112/112 [==============================] - 2s 14ms/step - loss: 7.4233 - val_loss: 1.2034 - lr: 0.0017\n",
            "Epoch 30/100\n",
            "112/112 [==============================] - 2s 14ms/step - loss: 6.4887 - val_loss: 1.1984 - lr: 0.0015\n",
            "Epoch 31/100\n",
            "112/112 [==============================] - 2s 14ms/step - loss: 6.9763 - val_loss: 1.2237 - lr: 0.0014\n",
            "Epoch 32/100\n",
            "112/112 [==============================] - 2s 14ms/step - loss: 5.9054 - val_loss: 1.6715 - lr: 0.0012\n",
            "Epoch 33/100\n",
            "112/112 [==============================] - 2s 14ms/step - loss: 6.0147 - val_loss: 1.1979 - lr: 0.0011\n",
            "Epoch 34/100\n",
            "112/112 [==============================] - 2s 14ms/step - loss: 5.5870 - val_loss: 1.2487 - lr: 0.0010\n",
            "Epoch 35/100\n",
            "112/112 [==============================] - 2s 14ms/step - loss: 6.4421 - val_loss: 1.4201 - lr: 9.0718e-04\n",
            "Epoch 36/100\n",
            "112/112 [==============================] - 2s 14ms/step - loss: 6.3082 - val_loss: 1.1971 - lr: 8.2085e-04\n",
            "Epoch 37/100\n",
            "112/112 [==============================] - 2s 14ms/step - loss: 5.5611 - val_loss: 1.5153 - lr: 7.4274e-04\n",
            "Epoch 38/100\n",
            "112/112 [==============================] - 2s 14ms/step - loss: 6.0480 - val_loss: 1.2288 - lr: 6.7206e-04\n",
            "Epoch 39/100\n",
            "112/112 [==============================] - 2s 14ms/step - loss: 6.2551 - val_loss: 1.6634 - lr: 6.0810e-04\n",
            "Epoch 40/100\n",
            "112/112 [==============================] - 2s 14ms/step - loss: 5.5610 - val_loss: 1.2199 - lr: 5.5023e-04\n",
            "Epoch 41/100\n",
            "112/112 [==============================] - 2s 14ms/step - loss: 5.1885 - val_loss: 1.2559 - lr: 4.9787e-04\n",
            "Epoch 42/100\n",
            "112/112 [==============================] - 2s 14ms/step - loss: 6.2152 - val_loss: 1.1975 - lr: 4.5049e-04\n",
            "Epoch 43/100\n",
            "112/112 [==============================] - 2s 14ms/step - loss: 5.5157 - val_loss: 1.1943 - lr: 4.0762e-04\n",
            "Epoch 44/100\n",
            "112/112 [==============================] - 2s 14ms/step - loss: 6.0988 - val_loss: 1.1916 - lr: 3.6883e-04\n",
            "Epoch 45/100\n",
            "112/112 [==============================] - 2s 14ms/step - loss: 5.6734 - val_loss: 1.1835 - lr: 3.3373e-04\n",
            "Epoch 46/100\n",
            "112/112 [==============================] - 2s 14ms/step - loss: 6.6685 - val_loss: 1.1757 - lr: 3.0197e-04\n",
            "Epoch 47/100\n",
            "112/112 [==============================] - 2s 14ms/step - loss: 5.7560 - val_loss: 1.1971 - lr: 2.7324e-04\n",
            "Epoch 48/100\n",
            "112/112 [==============================] - 2s 14ms/step - loss: 5.3108 - val_loss: 1.1700 - lr: 2.4724e-04\n",
            "Epoch 49/100\n",
            "112/112 [==============================] - 2s 14ms/step - loss: 5.1826 - val_loss: 1.1569 - lr: 2.2371e-04\n",
            "Epoch 50/100\n",
            "112/112 [==============================] - 2s 15ms/step - loss: 4.9606 - val_loss: 1.1595 - lr: 2.0242e-04\n",
            "Epoch 51/100\n",
            "112/112 [==============================] - 2s 14ms/step - loss: 6.6059 - val_loss: 1.1592 - lr: 1.8316e-04\n",
            "Epoch 52/100\n",
            "112/112 [==============================] - 2s 14ms/step - loss: 5.3724 - val_loss: 1.1537 - lr: 1.6573e-04\n",
            "Epoch 53/100\n",
            "112/112 [==============================] - 2s 14ms/step - loss: 5.4246 - val_loss: 1.1507 - lr: 1.4996e-04\n",
            "Epoch 54/100\n",
            "112/112 [==============================] - 2s 14ms/step - loss: 4.9451 - val_loss: 1.1452 - lr: 1.3569e-04\n",
            "Epoch 55/100\n",
            "112/112 [==============================] - 2s 14ms/step - loss: 4.8578 - val_loss: 1.1494 - lr: 1.2277e-04\n",
            "Epoch 56/100\n",
            "112/112 [==============================] - 2s 14ms/step - loss: 4.5697 - val_loss: 1.1485 - lr: 1.1109e-04\n",
            "Epoch 57/100\n",
            "112/112 [==============================] - 2s 14ms/step - loss: 4.4520 - val_loss: 1.1682 - lr: 1.0052e-04\n",
            "Epoch 58/100\n",
            "112/112 [==============================] - 2s 14ms/step - loss: 4.3754 - val_loss: 1.1479 - lr: 9.0953e-05\n",
            "Epoch 59/100\n",
            "112/112 [==============================] - 2s 14ms/step - loss: 4.2929 - val_loss: 1.1587 - lr: 8.2297e-05\n",
            "Epoch 60/100\n",
            "112/112 [==============================] - 2s 15ms/step - loss: 4.3875 - val_loss: 1.1421 - lr: 7.4466e-05\n",
            "Epoch 61/100\n",
            "112/112 [==============================] - 2s 14ms/step - loss: 4.3532 - val_loss: 1.1417 - lr: 6.7379e-05\n",
            "Epoch 62/100\n",
            "112/112 [==============================] - 2s 14ms/step - loss: 4.3422 - val_loss: 1.1393 - lr: 6.0967e-05\n",
            "Epoch 63/100\n",
            "112/112 [==============================] - 2s 14ms/step - loss: 4.2731 - val_loss: 1.1404 - lr: 5.5166e-05\n",
            "Epoch 64/100\n",
            "112/112 [==============================] - 2s 14ms/step - loss: 4.2371 - val_loss: 1.1403 - lr: 4.9916e-05\n",
            "Epoch 65/100\n",
            "112/112 [==============================] - 2s 14ms/step - loss: 4.2535 - val_loss: 1.1562 - lr: 4.5166e-05\n",
            "Epoch 66/100\n",
            "112/112 [==============================] - 2s 14ms/step - loss: 4.2917 - val_loss: 1.1382 - lr: 4.0868e-05\n",
            "Epoch 67/100\n",
            "112/112 [==============================] - 2s 14ms/step - loss: 4.2125 - val_loss: 1.1378 - lr: 3.6979e-05\n",
            "Epoch 68/100\n",
            "112/112 [==============================] - 2s 14ms/step - loss: 4.1364 - val_loss: 1.1366 - lr: 3.3460e-05\n",
            "Epoch 69/100\n",
            "112/112 [==============================] - 2s 14ms/step - loss: 4.1464 - val_loss: 1.1378 - lr: 3.0276e-05\n",
            "Epoch 70/100\n",
            "112/112 [==============================] - 2s 14ms/step - loss: 4.4814 - val_loss: 1.1355 - lr: 2.7394e-05\n",
            "Epoch 71/100\n",
            "112/112 [==============================] - 2s 14ms/step - loss: 4.1351 - val_loss: 1.1346 - lr: 2.4788e-05\n",
            "Epoch 72/100\n",
            "112/112 [==============================] - 2s 15ms/step - loss: 4.0984 - val_loss: 1.1338 - lr: 2.2429e-05\n",
            "Epoch 73/100\n",
            "112/112 [==============================] - 2s 14ms/step - loss: 4.1204 - val_loss: 1.1343 - lr: 2.0294e-05\n",
            "Epoch 74/100\n",
            "112/112 [==============================] - 2s 15ms/step - loss: 4.0737 - val_loss: 1.1338 - lr: 1.8363e-05\n",
            "Epoch 75/100\n",
            "112/112 [==============================] - 2s 15ms/step - loss: 4.0524 - val_loss: 1.1343 - lr: 1.6616e-05\n",
            "Epoch 76/100\n",
            "112/112 [==============================] - 2s 14ms/step - loss: 4.0601 - val_loss: 1.1339 - lr: 1.5034e-05\n",
            "Epoch 77/100\n",
            "112/112 [==============================] - 2s 14ms/step - loss: 4.0266 - val_loss: 1.1333 - lr: 1.3604e-05\n",
            "Epoch 78/100\n",
            "112/112 [==============================] - 2s 14ms/step - loss: 4.0613 - val_loss: 1.1338 - lr: 1.2309e-05\n",
            "Epoch 79/100\n",
            "112/112 [==============================] - 2s 14ms/step - loss: 4.0219 - val_loss: 1.1329 - lr: 1.1138e-05\n",
            "Epoch 80/100\n",
            "112/112 [==============================] - 2s 14ms/step - loss: 4.0305 - val_loss: 1.1325 - lr: 1.0078e-05\n",
            "Epoch 81/100\n",
            "112/112 [==============================] - 2s 14ms/step - loss: 4.0192 - val_loss: 1.1325 - lr: 9.1188e-06\n",
            "Epoch 82/100\n",
            "112/112 [==============================] - 2s 14ms/step - loss: 4.0021 - val_loss: 1.1325 - lr: 8.2510e-06\n",
            "Epoch 83/100\n",
            "112/112 [==============================] - 2s 14ms/step - loss: 4.0135 - val_loss: 1.1328 - lr: 7.4659e-06\n",
            "Epoch 84/100\n",
            "112/112 [==============================] - 2s 14ms/step - loss: 3.9827 - val_loss: 1.1323 - lr: 6.7554e-06\n",
            "Epoch 85/100\n",
            "112/112 [==============================] - 2s 14ms/step - loss: 3.9888 - val_loss: 1.1324 - lr: 6.1125e-06\n",
            "Epoch 86/100\n",
            "112/112 [==============================] - 2s 14ms/step - loss: 3.9721 - val_loss: 1.1325 - lr: 5.5308e-06\n",
            "Epoch 87/100\n",
            "112/112 [==============================] - 2s 14ms/step - loss: 3.9843 - val_loss: 1.1324 - lr: 5.0045e-06\n",
            "Epoch 88/100\n",
            "112/112 [==============================] - 2s 14ms/step - loss: 3.9816 - val_loss: 1.1323 - lr: 4.5283e-06\n",
            "Epoch 89/100\n",
            "112/112 [==============================] - 2s 14ms/step - loss: 4.0447 - val_loss: 1.1321 - lr: 4.0973e-06\n",
            "Epoch 90/100\n",
            "112/112 [==============================] - 2s 14ms/step - loss: 3.9642 - val_loss: 1.1320 - lr: 3.7074e-06\n",
            "Epoch 91/100\n",
            "112/112 [==============================] - 2s 14ms/step - loss: 3.9866 - val_loss: 1.1320 - lr: 3.3546e-06\n",
            "Epoch 92/100\n",
            "112/112 [==============================] - 2s 14ms/step - loss: 3.9639 - val_loss: 1.1320 - lr: 3.0354e-06\n",
            "Epoch 93/100\n",
            "112/112 [==============================] - 2s 14ms/step - loss: 3.9636 - val_loss: 1.1319 - lr: 2.7465e-06\n",
            "Epoch 94/100\n",
            "112/112 [==============================] - 2s 14ms/step - loss: 3.9656 - val_loss: 1.1318 - lr: 2.4852e-06\n",
            "Epoch 95/100\n",
            "112/112 [==============================] - 2s 14ms/step - loss: 3.9615 - val_loss: 1.1317 - lr: 2.2487e-06\n",
            "Epoch 96/100\n",
            "112/112 [==============================] - 2s 14ms/step - loss: 3.9556 - val_loss: 1.1317 - lr: 2.0347e-06\n",
            "Epoch 97/100\n",
            "112/112 [==============================] - 2s 14ms/step - loss: 3.9853 - val_loss: 1.1317 - lr: 1.8411e-06\n",
            "Epoch 98/100\n",
            "112/112 [==============================] - 2s 15ms/step - loss: 3.9568 - val_loss: 1.1316 - lr: 1.6659e-06\n",
            "Epoch 99/100\n",
            "112/112 [==============================] - 2s 15ms/step - loss: 3.9534 - val_loss: 1.1316 - lr: 1.5073e-06\n",
            "Epoch 100/100\n",
            "112/112 [==============================] - 2s 15ms/step - loss: 3.9493 - val_loss: 1.1316 - lr: 1.3639e-06\n"
          ],
          "name": "stdout"
        },
        {
          "output_type": "execute_result",
          "data": {
            "text/plain": [
              "<tensorflow.python.keras.callbacks.History at 0x7fc39a1a7a90>"
            ]
          },
          "metadata": {
            "tags": []
          },
          "execution_count": 62
        }
      ]
    },
    {
      "cell_type": "code",
      "metadata": {
        "id": "J0JDDIlpP_5X",
        "colab_type": "code",
        "colab": {}
      },
      "source": [
        ""
      ],
      "execution_count": 0,
      "outputs": []
    },
    {
      "cell_type": "code",
      "metadata": {
        "id": "wCQxRRw2VOJJ",
        "colab_type": "code",
        "colab": {}
      },
      "source": [
        "# reference : \n",
        "#https://machinelearningmastery.com/how-to-get-started-with-deep-learning-for-time-series-forecasting-7-day-mini-course/"
      ],
      "execution_count": 0,
      "outputs": []
    },
    {
      "cell_type": "code",
      "metadata": {
        "id": "YBnkKwH-a0ZW",
        "colab_type": "code",
        "colab": {}
      },
      "source": [
        ""
      ],
      "execution_count": 0,
      "outputs": []
    }
  ]
}